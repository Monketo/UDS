{
 "cells": [
  {
   "cell_type": "code",
   "execution_count": 472,
   "metadata": {
    "collapsed": true
   },
   "outputs": [],
   "source": [
    "import pandas as pd\n",
    "import pandas_profiling\n",
    "import numpy as np "
   ]
  },
  {
   "cell_type": "code",
   "execution_count": 325,
   "metadata": {
    "collapsed": true
   },
   "outputs": [],
   "source": [
    "import matplotlib.pyplot as plt\n",
    "import seaborn as sns\n",
    "%matplotlib inline"
   ]
  },
  {
   "cell_type": "code",
   "execution_count": 386,
   "metadata": {
    "collapsed": true
   },
   "outputs": [],
   "source": [
    "train = pd.read_csv(\"../data/modulbank/train.csv\",delimiter=\"\\t\")\n",
    "test = pd.read_csv(\"../data/modulbank/test.csv\",delimiter=\"\\t\")"
   ]
  },
  {
   "cell_type": "code",
   "execution_count": 387,
   "metadata": {
    "collapsed": true
   },
   "outputs": [],
   "source": [
    "test.drop([\"Unnamed: 0\"],axis=1,inplace=True)\n",
    "train.drop([\"Unnamed: 0\"],axis=1,inplace=True)"
   ]
  },
  {
   "cell_type": "code",
   "execution_count": 388,
   "metadata": {},
   "outputs": [
    {
     "data": {
      "text/plain": [
       "0    0.822197\n",
       "1    0.177803\n",
       "Name: 0, dtype: float64"
      ]
     },
     "execution_count": 388,
     "metadata": {},
     "output_type": "execute_result"
    }
   ],
   "source": [
    "train[\"0\"].value_counts(normalize=True)"
   ]
  },
  {
   "cell_type": "code",
   "execution_count": 389,
   "metadata": {
    "collapsed": true
   },
   "outputs": [],
   "source": [
    "all_dataframe = pd.concat([train,test])"
   ]
  },
  {
   "cell_type": "code",
   "execution_count": 332,
   "metadata": {
    "collapsed": true
   },
   "outputs": [],
   "source": [
    "report = pandas_profiling.ProfileReport(all_dataframe)"
   ]
  },
  {
   "cell_type": "code",
   "execution_count": 333,
   "metadata": {},
   "outputs": [],
   "source": [
    "report.to_file(\"report_all.html\")"
   ]
  },
  {
   "cell_type": "code",
   "execution_count": 390,
   "metadata": {
    "collapsed": true
   },
   "outputs": [],
   "source": [
    "rejected = report.get_rejected_variables()"
   ]
  },
  {
   "cell_type": "markdown",
   "metadata": {},
   "source": [
    "According to the report shows that some features are constant"
   ]
  },
  {
   "cell_type": "code",
   "execution_count": 391,
   "metadata": {
    "collapsed": true
   },
   "outputs": [],
   "source": [
    "all_dataframe.drop(rejected,axis=1,inplace=True)"
   ]
  },
  {
   "cell_type": "code",
   "execution_count": 392,
   "metadata": {
    "collapsed": true
   },
   "outputs": [],
   "source": [
    "train,test = all_dataframe[:len(train)],all_dataframe[len(train):]"
   ]
  },
  {
   "cell_type": "code",
   "execution_count": 393,
   "metadata": {
    "collapsed": true
   },
   "outputs": [],
   "source": [
    "from sklearn.linear_model import LogisticRegression\n",
    "from sklearn.svm import LinearSVC,SVC\n",
    "from sklearn.ensemble import RandomForestClassifier\n",
    "from sklearn.model_selection import cross_val_score,GridSearchCV,RandomizedSearchCV"
   ]
  },
  {
   "cell_type": "code",
   "execution_count": 382,
   "metadata": {
    "collapsed": true
   },
   "outputs": [],
   "source": [
    "from sklearn.model_selection import StratifiedKFold\n",
    "skf = StratifiedKFold(n_splits=8,random_state=42,shuffle=True)\n"
   ]
  },
  {
   "cell_type": "code",
   "execution_count": 396,
   "metadata": {},
   "outputs": [],
   "source": [
    "X_train_new,Y_train_new = train.drop([\"0\"],axis=1),train[\"0\"]\n",
    "myIterator=skf.split(X_train_new,Y_train_new)"
   ]
  },
  {
   "cell_type": "code",
   "execution_count": 397,
   "metadata": {
    "collapsed": true
   },
   "outputs": [],
   "source": [
    "log_reg  = LogisticRegression()\n",
    "params = {\"C\":[0.01,0.1,1,5,10]}\n",
    "grid_search = GridSearchCV(log_reg,param_grid=params,scoring=\"roc_auc\",cv=myIterator,verbose=3,n_jobs=1)"
   ]
  },
  {
   "cell_type": "code",
   "execution_count": 398,
   "metadata": {
    "scrolled": true
   },
   "outputs": [
    {
     "name": "stdout",
     "output_type": "stream",
     "text": [
      "Fitting 8 folds for each of 5 candidates, totalling 40 fits\n",
      "[CV] C=0.01 ..........................................................\n",
      "[CV] ................. C=0.01, score=0.7119386694142167, total=   1.2s\n",
      "[CV] C=0.01 ..........................................................\n"
     ]
    },
    {
     "name": "stderr",
     "output_type": "stream",
     "text": [
      "[Parallel(n_jobs=1)]: Done   1 out of   1 | elapsed:    1.4s remaining:    0.0s\n"
     ]
    },
    {
     "name": "stdout",
     "output_type": "stream",
     "text": [
      "[CV] ................. C=0.01, score=0.7212224715717962, total=   1.2s\n",
      "[CV] C=0.01 ..........................................................\n"
     ]
    },
    {
     "name": "stderr",
     "output_type": "stream",
     "text": [
      "[Parallel(n_jobs=1)]: Done   2 out of   2 | elapsed:    2.6s remaining:    0.0s\n"
     ]
    },
    {
     "name": "stdout",
     "output_type": "stream",
     "text": [
      "[CV] ................. C=0.01, score=0.7089897578486306, total=   1.2s\n",
      "[CV] C=0.01 ..........................................................\n",
      "[CV] ................. C=0.01, score=0.7196111087587566, total=   1.0s\n",
      "[CV] C=0.01 ..........................................................\n",
      "[CV] ................. C=0.01, score=0.7300517988454643, total=   1.1s\n",
      "[CV] C=0.01 ..........................................................\n",
      "[CV] ................. C=0.01, score=0.7184194475662306, total=   1.1s\n",
      "[CV] C=0.01 ..........................................................\n",
      "[CV] ................. C=0.01, score=0.7248283645166818, total=   1.0s\n",
      "[CV] C=0.01 ..........................................................\n",
      "[CV] ................. C=0.01, score=0.7230079586448341, total=   1.0s\n",
      "[CV] C=0.1 ...........................................................\n",
      "[CV] .................... C=0.1, score=0.72474206433219, total=   1.7s\n",
      "[CV] C=0.1 ...........................................................\n",
      "[CV] .................. C=0.1, score=0.7321016405320085, total=   2.1s\n",
      "[CV] C=0.1 ...........................................................\n",
      "[CV] .................. C=0.1, score=0.7180881944738489, total=   1.9s\n",
      "[CV] C=0.1 ...........................................................\n",
      "[CV] .................. C=0.1, score=0.7286582640564941, total=   1.4s\n",
      "[CV] C=0.1 ...........................................................\n",
      "[CV] .................. C=0.1, score=0.7380662705301737, total=   1.5s\n",
      "[CV] C=0.1 ...........................................................\n",
      "[CV] .................. C=0.1, score=0.7292409071314144, total=   1.5s\n",
      "[CV] C=0.1 ...........................................................\n",
      "[CV] .................. C=0.1, score=0.7324387769124626, total=   1.6s\n",
      "[CV] C=0.1 ...........................................................\n",
      "[CV] .................. C=0.1, score=0.7221350810993733, total=   2.3s\n",
      "[CV] C=1 .............................................................\n",
      "[CV] ..................... C=1, score=0.724752414691865, total=   2.4s\n",
      "[CV] C=1 .............................................................\n",
      "[CV] .................... C=1, score=0.7314613296448416, total=   2.9s\n",
      "[CV] C=1 .............................................................\n",
      "[CV] .................... C=1, score=0.7165229378084523, total=   2.2s\n",
      "[CV] C=1 .............................................................\n",
      "[CV] .................... C=1, score=0.7271969814587421, total=   3.3s\n",
      "[CV] C=1 .............................................................\n",
      "[CV] .................... C=1, score=0.7370604037581215, total=   2.5s\n",
      "[CV] C=1 .............................................................\n",
      "[CV] .................... C=1, score=0.7279857608906408, total=   2.6s\n",
      "[CV] C=1 .............................................................\n",
      "[CV] .................... C=1, score=0.7297072925549639, total=   3.2s\n",
      "[CV] C=1 .............................................................\n",
      "[CV] .................... C=1, score=0.7166701701168582, total=   2.5s\n",
      "[CV] C=5 .............................................................\n",
      "[CV] .................... C=5, score=0.7236246959581846, total=   4.0s\n",
      "[CV] C=5 .............................................................\n",
      "[CV] .................... C=5, score=0.7300739109774974, total=   3.4s\n",
      "[CV] C=5 .............................................................\n",
      "[CV] .................... C=5, score=0.7157866508588446, total=   4.6s\n",
      "[CV] C=5 .............................................................\n",
      "[CV] .................... C=5, score=0.7261219554652252, total=   3.8s\n",
      "[CV] C=5 .............................................................\n",
      "[CV] .................... C=5, score=0.7348491905548262, total=   3.4s\n",
      "[CV] C=5 .............................................................\n",
      "[CV] ..................... C=5, score=0.726733908996956, total=   3.3s\n",
      "[CV] C=5 .............................................................\n",
      "[CV] .................... C=5, score=0.7285796846086221, total=   3.5s\n",
      "[CV] C=5 .............................................................\n",
      "[CV] .................... C=5, score=0.7146020347661659, total=   2.9s\n",
      "[CV] C=10 ............................................................\n",
      "[CV] ................... C=10, score=0.7233786396804561, total=   3.9s\n",
      "[CV] C=10 ............................................................\n",
      "[CV] ................... C=10, score=0.7297497565313121, total=   3.5s\n",
      "[CV] C=10 ............................................................\n",
      "[CV] ................... C=10, score=0.7157758300282753, total=   3.7s\n",
      "[CV] C=10 ............................................................\n",
      "[CV] ................... C=10, score=0.7259615248902626, total=   3.8s\n",
      "[CV] C=10 ............................................................\n",
      "[CV] ................... C=10, score=0.7342573381697741, total=   3.7s\n",
      "[CV] C=10 ............................................................\n",
      "[CV] ................... C=10, score=0.7265978995242963, total=   3.7s\n",
      "[CV] C=10 ............................................................\n",
      "[CV] ................... C=10, score=0.7284662649445702, total=   3.7s\n",
      "[CV] C=10 ............................................................\n",
      "[CV] ................... C=10, score=0.7140439964217676, total=   3.9s\n"
     ]
    },
    {
     "name": "stderr",
     "output_type": "stream",
     "text": [
      "[Parallel(n_jobs=1)]: Done  40 out of  40 | elapsed:  1.8min finished\n"
     ]
    },
    {
     "data": {
      "text/plain": [
       "GridSearchCV(cv=<generator object _BaseKFold.split at 0x1142a4e60>,\n",
       "       error_score='raise',\n",
       "       estimator=LogisticRegression(C=1.0, class_weight=None, dual=False, fit_intercept=True,\n",
       "          intercept_scaling=1, max_iter=100, multi_class='ovr', n_jobs=1,\n",
       "          penalty='l2', random_state=None, solver='liblinear', tol=0.0001,\n",
       "          verbose=0, warm_start=False),\n",
       "       fit_params=None, iid=True, n_jobs=1,\n",
       "       param_grid={'C': [0.01, 0.1, 1, 5, 10]}, pre_dispatch='2*n_jobs',\n",
       "       refit=True, return_train_score='warn', scoring='roc_auc', verbose=3)"
      ]
     },
     "execution_count": 398,
     "metadata": {},
     "output_type": "execute_result"
    }
   ],
   "source": [
    "grid_search.fit(X_train_new,Y_train_new)"
   ]
  },
  {
   "cell_type": "code",
   "execution_count": 366,
   "metadata": {},
   "outputs": [],
   "source": [
    "log_reg = LogisticRegression(**grid_search.best_params_)"
   ]
  },
  {
   "cell_type": "code",
   "execution_count": 368,
   "metadata": {},
   "outputs": [
    {
     "name": "stdout",
     "output_type": "stream",
     "text": [
      "[CV]  ................................................................\n",
      "[CV] ......................... , score=0.72474206433219, total=   2.1s\n",
      "[CV]  ................................................................\n"
     ]
    },
    {
     "name": "stderr",
     "output_type": "stream",
     "text": [
      "[Parallel(n_jobs=1)]: Done   1 out of   1 | elapsed:    2.1s remaining:    0.0s\n"
     ]
    },
    {
     "name": "stdout",
     "output_type": "stream",
     "text": [
      "[CV] ....................... , score=0.7321016405320085, total=   1.7s\n",
      "[CV]  ................................................................\n"
     ]
    },
    {
     "name": "stderr",
     "output_type": "stream",
     "text": [
      "[Parallel(n_jobs=1)]: Done   2 out of   2 | elapsed:    3.8s remaining:    0.0s\n"
     ]
    },
    {
     "name": "stdout",
     "output_type": "stream",
     "text": [
      "[CV] ....................... , score=0.7180881944738489, total=   2.0s\n",
      "[CV]  ................................................................\n",
      "[CV] ....................... , score=0.7286582640564941, total=   2.0s\n",
      "[CV]  ................................................................\n",
      "[CV] ....................... , score=0.7380662705301737, total=   1.5s\n",
      "[CV]  ................................................................\n",
      "[CV] ....................... , score=0.7292409071314144, total=   2.0s\n",
      "[CV]  ................................................................\n",
      "[CV] ....................... , score=0.7324387769124626, total=   2.2s\n",
      "[CV]  ................................................................\n",
      "[CV] ....................... , score=0.7221350810993733, total=   1.7s\n"
     ]
    },
    {
     "name": "stderr",
     "output_type": "stream",
     "text": [
      "[Parallel(n_jobs=1)]: Done   8 out of   8 | elapsed:   15.4s finished\n"
     ]
    }
   ],
   "source": [
    "myIterator=skf.split(X_train_new,Y_train_new)\n",
    "scores1 = cross_val_score(log_reg,X_train_new,Y_train_new,cv=myIterator,scoring=\"roc_auc\",n_jobs=1,verbose=3)\n"
   ]
  },
  {
   "cell_type": "code",
   "execution_count": 369,
   "metadata": {},
   "outputs": [
    {
     "name": "stdout",
     "output_type": "stream",
     "text": [
      "Log regression val 0.7282\n"
     ]
    }
   ],
   "source": [
    "print(\"Log regression val {:.4f}\".format(scores1.mean()))"
   ]
  },
  {
   "cell_type": "code",
   "execution_count": 401,
   "metadata": {
    "collapsed": true
   },
   "outputs": [],
   "source": [
    "\n",
    "cls = RandomForestClassifier()"
   ]
  },
  {
   "cell_type": "code",
   "execution_count": 402,
   "metadata": {},
   "outputs": [],
   "source": [
    "param_grid = {\"max_depth\": list(range(5,40,8)),\n",
    "              \"max_features\": [0.3,0.7,0.9],\n",
    "              \"min_samples_split\": [ 10,20,30],\n",
    "              \"min_samples_leaf\": [10,20,30],\n",
    "              \"criterion\": [\"gini\", \"entropy\"]}\n",
    "\n",
    "# run grid search\n",
    "grid_search = RandomizedSearchCV(cls, param_distributions=param_grid,n_iter=20,cv=3,verbose=3,scoring=\"roc_auc\",n_jobs=8)"
   ]
  },
  {
   "cell_type": "code",
   "execution_count": 403,
   "metadata": {
    "scrolled": true
   },
   "outputs": [
    {
     "name": "stdout",
     "output_type": "stream",
     "text": [
      "Fitting 3 folds for each of 20 candidates, totalling 60 fits\n",
      "[CV] max_depth=29, min_samples_leaf=20, criterion=entropy, min_samples_split=10, max_features=0.3 \n",
      "[CV] max_depth=29, min_samples_leaf=20, criterion=entropy, min_samples_split=10, max_features=0.3 \n",
      "[CV] max_depth=29, min_samples_leaf=20, criterion=entropy, min_samples_split=10, max_features=0.3 \n",
      "[CV] max_depth=13, min_samples_leaf=20, criterion=entropy, min_samples_split=10, max_features=0.9 \n",
      "[CV] max_depth=13, min_samples_leaf=20, criterion=entropy, min_samples_split=10, max_features=0.9 \n",
      "[CV] max_depth=13, min_samples_leaf=20, criterion=entropy, min_samples_split=10, max_features=0.9 \n",
      "[CV] max_depth=29, min_samples_leaf=20, criterion=gini, min_samples_split=20, max_features=0.9 \n",
      "[CV] max_depth=29, min_samples_leaf=20, criterion=gini, min_samples_split=20, max_features=0.9 \n",
      "[CV]  max_depth=29, min_samples_leaf=20, criterion=entropy, min_samples_split=10, max_features=0.3, score=0.7100055832460799, total=  15.8s\n",
      "[CV] max_depth=29, min_samples_leaf=20, criterion=gini, min_samples_split=20, max_features=0.9 \n",
      "[CV]  max_depth=29, min_samples_leaf=20, criterion=entropy, min_samples_split=10, max_features=0.3, score=0.7012341369114102, total=  16.1s\n",
      "[CV]  max_depth=29, min_samples_leaf=20, criterion=entropy, min_samples_split=10, max_features=0.3, score=0.7128678975893153, total=  16.0s\n",
      "[CV] max_depth=21, min_samples_leaf=10, criterion=entropy, min_samples_split=20, max_features=0.7 \n",
      "[CV] max_depth=21, min_samples_leaf=10, criterion=entropy, min_samples_split=20, max_features=0.7 \n",
      "[CV]  max_depth=13, min_samples_leaf=20, criterion=entropy, min_samples_split=10, max_features=0.9, score=0.7098710970211748, total=  39.2s\n",
      "[CV] max_depth=21, min_samples_leaf=10, criterion=entropy, min_samples_split=20, max_features=0.7 \n",
      "[CV]  max_depth=13, min_samples_leaf=20, criterion=entropy, min_samples_split=10, max_features=0.9, score=0.7128848125649108, total=  39.4s\n",
      "[CV] max_depth=29, min_samples_leaf=10, criterion=entropy, min_samples_split=30, max_features=0.9 \n",
      "[CV]  max_depth=13, min_samples_leaf=20, criterion=entropy, min_samples_split=10, max_features=0.9, score=0.7172578519035747, total=  39.5s\n",
      "[CV] max_depth=29, min_samples_leaf=10, criterion=entropy, min_samples_split=30, max_features=0.9 \n",
      "[CV]  max_depth=29, min_samples_leaf=20, criterion=gini, min_samples_split=20, max_features=0.9, score=0.7086972787531218, total=  43.9s\n",
      "[CV] max_depth=29, min_samples_leaf=10, criterion=entropy, min_samples_split=30, max_features=0.9 \n",
      "[CV]  max_depth=29, min_samples_leaf=20, criterion=gini, min_samples_split=20, max_features=0.9, score=0.7048268545269949, total=  43.7s\n",
      "[CV] max_depth=29, min_samples_leaf=10, criterion=entropy, min_samples_split=10, max_features=0.9 \n",
      "[CV]  max_depth=21, min_samples_leaf=10, criterion=entropy, min_samples_split=20, max_features=0.7, score=0.6979074141908409, total=  39.4s\n",
      "[CV]  max_depth=21, min_samples_leaf=10, criterion=entropy, min_samples_split=20, max_features=0.7, score=0.7022394255780691, total=  39.0s\n",
      "[CV] max_depth=29, min_samples_leaf=10, criterion=entropy, min_samples_split=10, max_features=0.9 \n",
      "[CV] max_depth=29, min_samples_leaf=10, criterion=entropy, min_samples_split=10, max_features=0.9 \n",
      "[CV]  max_depth=29, min_samples_leaf=20, criterion=gini, min_samples_split=20, max_features=0.9, score=0.7125964591316629, total=  43.6s\n",
      "[CV] max_depth=29, min_samples_leaf=30, criterion=gini, min_samples_split=10, max_features=0.7 \n",
      "[CV]  max_depth=21, min_samples_leaf=10, criterion=entropy, min_samples_split=20, max_features=0.7, score=0.7026073914810563, total=  39.3s\n",
      "[CV] max_depth=29, min_samples_leaf=30, criterion=gini, min_samples_split=10, max_features=0.7 \n",
      "[CV]  max_depth=29, min_samples_leaf=10, criterion=entropy, min_samples_split=30, max_features=0.9, score=0.705759490856657, total=  50.7s\n",
      "[CV] max_depth=29, min_samples_leaf=30, criterion=gini, min_samples_split=10, max_features=0.7 \n",
      "[CV]  max_depth=29, min_samples_leaf=10, criterion=entropy, min_samples_split=30, max_features=0.9, score=0.7018409956625629, total=  51.6s\n",
      "[CV] max_depth=5, min_samples_leaf=30, criterion=entropy, min_samples_split=30, max_features=0.7 \n",
      "[CV]  max_depth=29, min_samples_leaf=30, criterion=gini, min_samples_split=10, max_features=0.7, score=0.7114247851131789, total=  33.8s\n",
      "[CV] max_depth=5, min_samples_leaf=30, criterion=entropy, min_samples_split=30, max_features=0.7 \n",
      "[CV]  max_depth=29, min_samples_leaf=10, criterion=entropy, min_samples_split=30, max_features=0.9, score=0.7035057534691325, total=  51.8s\n",
      "[CV] max_depth=5, min_samples_leaf=30, criterion=entropy, min_samples_split=30, max_features=0.7 \n"
     ]
    },
    {
     "name": "stderr",
     "output_type": "stream",
     "text": [
      "[Parallel(n_jobs=8)]: Done  16 tasks      | elapsed:  1.7min\n"
     ]
    },
    {
     "name": "stdout",
     "output_type": "stream",
     "text": [
      "[CV]  max_depth=29, min_samples_leaf=10, criterion=entropy, min_samples_split=10, max_features=0.9, score=0.6975466338015197, total=  54.0s\n",
      "[CV] max_depth=29, min_samples_leaf=10, criterion=gini, min_samples_split=10, max_features=0.9 \n",
      "[CV]  max_depth=5, min_samples_leaf=30, criterion=entropy, min_samples_split=30, max_features=0.7, score=0.7047703140698331, total=  17.0s\n",
      "[CV] max_depth=29, min_samples_leaf=10, criterion=gini, min_samples_split=10, max_features=0.9 \n",
      "[CV]  max_depth=29, min_samples_leaf=10, criterion=entropy, min_samples_split=10, max_features=0.9, score=0.6991734301737478, total=  53.7s\n",
      "[CV] max_depth=29, min_samples_leaf=10, criterion=gini, min_samples_split=10, max_features=0.9 \n",
      "[CV]  max_depth=29, min_samples_leaf=10, criterion=entropy, min_samples_split=10, max_features=0.9, score=0.7030199419416515, total=  54.7s\n",
      "[CV]  max_depth=5, min_samples_leaf=30, criterion=entropy, min_samples_split=30, max_features=0.7, score=0.7012266599404806, total=  16.7s\n",
      "[CV] max_depth=37, min_samples_leaf=20, criterion=entropy, min_samples_split=30, max_features=0.3 \n",
      "[CV] max_depth=37, min_samples_leaf=20, criterion=entropy, min_samples_split=30, max_features=0.3 \n",
      "[CV]  max_depth=5, min_samples_leaf=30, criterion=entropy, min_samples_split=30, max_features=0.7, score=0.712586594660885, total=  16.7s\n",
      "[CV] max_depth=37, min_samples_leaf=20, criterion=entropy, min_samples_split=30, max_features=0.3 \n",
      "[CV]  max_depth=29, min_samples_leaf=30, criterion=gini, min_samples_split=10, max_features=0.7, score=0.712326918048164, total=  36.4s\n",
      "[CV] max_depth=21, min_samples_leaf=20, criterion=gini, min_samples_split=20, max_features=0.3 \n",
      "[CV]  max_depth=29, min_samples_leaf=30, criterion=gini, min_samples_split=10, max_features=0.7, score=0.7152128279431724, total=  32.6s\n",
      "[CV] max_depth=21, min_samples_leaf=20, criterion=gini, min_samples_split=20, max_features=0.3 \n",
      "[CV]  max_depth=37, min_samples_leaf=20, criterion=entropy, min_samples_split=30, max_features=0.3, score=0.7065587327315055, total=  14.3s\n",
      "[CV] max_depth=21, min_samples_leaf=20, criterion=gini, min_samples_split=20, max_features=0.3 \n",
      "[CV]  max_depth=37, min_samples_leaf=20, criterion=entropy, min_samples_split=30, max_features=0.3, score=0.7057962802003458, total=  15.2s\n",
      "[CV] max_depth=37, min_samples_leaf=30, criterion=entropy, min_samples_split=20, max_features=0.3 \n",
      "[CV]  max_depth=21, min_samples_leaf=20, criterion=gini, min_samples_split=20, max_features=0.3, score=0.711913037931666, total=  12.0s\n",
      "[CV] max_depth=37, min_samples_leaf=30, criterion=entropy, min_samples_split=20, max_features=0.3 \n",
      "[CV]  max_depth=37, min_samples_leaf=20, criterion=entropy, min_samples_split=30, max_features=0.3, score=0.7134520199092826, total=  14.5s\n",
      "[CV] max_depth=37, min_samples_leaf=30, criterion=entropy, min_samples_split=20, max_features=0.3 \n",
      "[CV]  max_depth=21, min_samples_leaf=20, criterion=gini, min_samples_split=20, max_features=0.3, score=0.7116135951711207, total=  14.6s\n",
      "[CV] max_depth=21, min_samples_leaf=20, criterion=entropy, min_samples_split=30, max_features=0.7 \n",
      "[CV]  max_depth=21, min_samples_leaf=20, criterion=gini, min_samples_split=20, max_features=0.3, score=0.7156681825070096, total=  14.7s\n",
      "[CV] max_depth=21, min_samples_leaf=20, criterion=entropy, min_samples_split=30, max_features=0.7 \n",
      "[CV]  max_depth=37, min_samples_leaf=30, criterion=entropy, min_samples_split=20, max_features=0.3, score=0.7107325367072954, total=  14.8s\n",
      "[CV] max_depth=21, min_samples_leaf=20, criterion=entropy, min_samples_split=30, max_features=0.7 \n",
      "[CV]  max_depth=37, min_samples_leaf=30, criterion=entropy, min_samples_split=20, max_features=0.3, score=0.7148584020508868, total=  14.1s\n",
      "[CV] max_depth=5, min_samples_leaf=30, criterion=gini, min_samples_split=10, max_features=0.9 \n",
      "[CV]  max_depth=37, min_samples_leaf=30, criterion=entropy, min_samples_split=20, max_features=0.3, score=0.7156266060798375, total=  14.1s\n",
      "[CV] max_depth=5, min_samples_leaf=30, criterion=gini, min_samples_split=10, max_features=0.9 \n",
      "[CV]  max_depth=29, min_samples_leaf=10, criterion=gini, min_samples_split=10, max_features=0.9, score=0.7091218780668815, total=  49.7s\n",
      "[CV] max_depth=5, min_samples_leaf=30, criterion=gini, min_samples_split=10, max_features=0.9 \n",
      "[CV]  max_depth=29, min_samples_leaf=10, criterion=gini, min_samples_split=10, max_features=0.9, score=0.699702317305178, total=  46.0s\n",
      "[CV] max_depth=13, min_samples_leaf=20, criterion=entropy, min_samples_split=20, max_features=0.7 \n",
      "[CV]  max_depth=29, min_samples_leaf=10, criterion=gini, min_samples_split=10, max_features=0.9, score=0.7075124168198363, total=  47.7s\n",
      "[CV]  max_depth=5, min_samples_leaf=30, criterion=gini, min_samples_split=10, max_features=0.9, score=0.7000400381868094, total=  15.0s\n",
      "[CV] max_depth=13, min_samples_leaf=20, criterion=entropy, min_samples_split=20, max_features=0.7 \n",
      "[CV] max_depth=13, min_samples_leaf=20, criterion=entropy, min_samples_split=20, max_features=0.7 \n",
      "[CV]  max_depth=5, min_samples_leaf=30, criterion=gini, min_samples_split=10, max_features=0.9, score=0.698077763409054, total=  15.7s\n",
      "[CV] max_depth=29, min_samples_leaf=30, criterion=gini, min_samples_split=20, max_features=0.3 \n",
      "[CV]  max_depth=5, min_samples_leaf=30, criterion=gini, min_samples_split=10, max_features=0.9, score=0.7067493106290731, total=  16.2s\n",
      "[CV] max_depth=29, min_samples_leaf=30, criterion=gini, min_samples_split=20, max_features=0.3 \n",
      "[CV]  max_depth=29, min_samples_leaf=30, criterion=gini, min_samples_split=20, max_features=0.3, score=0.713897975209805, total=  11.4s\n",
      "[CV] max_depth=29, min_samples_leaf=30, criterion=gini, min_samples_split=20, max_features=0.3 \n",
      "[CV]  max_depth=21, min_samples_leaf=20, criterion=entropy, min_samples_split=30, max_features=0.7, score=0.7129750324751976, total=  32.7s\n",
      "[CV] max_depth=21, min_samples_leaf=20, criterion=gini, min_samples_split=30, max_features=0.9 \n",
      "[CV]  max_depth=21, min_samples_leaf=20, criterion=entropy, min_samples_split=30, max_features=0.7, score=0.7162869959859548, total=  31.4s\n",
      "[CV] max_depth=21, min_samples_leaf=20, criterion=gini, min_samples_split=30, max_features=0.9 \n",
      "[CV]  max_depth=21, min_samples_leaf=20, criterion=entropy, min_samples_split=30, max_features=0.7, score=0.7143320696149664, total=  32.4s\n",
      "[CV] max_depth=21, min_samples_leaf=20, criterion=gini, min_samples_split=30, max_features=0.9 \n",
      "[CV]  max_depth=29, min_samples_leaf=30, criterion=gini, min_samples_split=20, max_features=0.3, score=0.7183658292635673, total=  10.1s\n",
      "[CV] max_depth=37, min_samples_leaf=30, criterion=entropy, min_samples_split=20, max_features=0.9 \n",
      "[CV]  max_depth=13, min_samples_leaf=20, criterion=entropy, min_samples_split=20, max_features=0.7, score=0.7082677168480371, total=  26.0s\n",
      "[CV]  max_depth=29, min_samples_leaf=30, criterion=gini, min_samples_split=20, max_features=0.3, score=0.7180688901536891, total=  10.1s\n",
      "[CV] max_depth=37, min_samples_leaf=30, criterion=entropy, min_samples_split=20, max_features=0.9 \n",
      "[CV] max_depth=37, min_samples_leaf=30, criterion=entropy, min_samples_split=20, max_features=0.9 \n",
      "[CV]  max_depth=13, min_samples_leaf=20, criterion=entropy, min_samples_split=20, max_features=0.7, score=0.7089359793958502, total=  25.5s\n",
      "[CV] max_depth=21, min_samples_leaf=30, criterion=entropy, min_samples_split=10, max_features=0.9 \n",
      "[CV]  max_depth=13, min_samples_leaf=20, criterion=entropy, min_samples_split=20, max_features=0.7, score=0.7139994980374669, total=  25.4s\n",
      "[CV] max_depth=21, min_samples_leaf=30, criterion=entropy, min_samples_split=10, max_features=0.9 \n",
      "[CV]  max_depth=21, min_samples_leaf=20, criterion=gini, min_samples_split=30, max_features=0.9, score=0.7054622647202369, total=  35.4s\n",
      "[CV] max_depth=21, min_samples_leaf=30, criterion=entropy, min_samples_split=10, max_features=0.9 \n",
      "[CV]  max_depth=21, min_samples_leaf=20, criterion=gini, min_samples_split=30, max_features=0.9, score=0.7114400368105175, total=  35.6s\n",
      "[CV] max_depth=21, min_samples_leaf=10, criterion=gini, min_samples_split=20, max_features=0.7 \n",
      "[CV]  max_depth=21, min_samples_leaf=20, criterion=gini, min_samples_split=30, max_features=0.9, score=0.7169572172605994, total=  36.2s\n",
      "[CV] max_depth=21, min_samples_leaf=10, criterion=gini, min_samples_split=20, max_features=0.7 \n"
     ]
    },
    {
     "name": "stdout",
     "output_type": "stream",
     "text": [
      "[CV]  max_depth=37, min_samples_leaf=30, criterion=entropy, min_samples_split=20, max_features=0.9, score=0.7053866017445031, total=  37.3s\n",
      "[CV] max_depth=21, min_samples_leaf=10, criterion=gini, min_samples_split=20, max_features=0.7 \n",
      "[CV]  max_depth=37, min_samples_leaf=30, criterion=entropy, min_samples_split=20, max_features=0.9, score=0.7152528816668016, total=  35.0s\n",
      "[CV]  max_depth=37, min_samples_leaf=30, criterion=entropy, min_samples_split=20, max_features=0.9, score=0.7166220408398769, total=  37.4s\n",
      "[CV]  max_depth=21, min_samples_leaf=30, criterion=entropy, min_samples_split=10, max_features=0.9, score=0.7055920199414123, total=  37.2s\n",
      "[CV]  max_depth=21, min_samples_leaf=30, criterion=entropy, min_samples_split=10, max_features=0.9, score=0.7065368311617916, total=  37.0s\n",
      "[CV]  max_depth=21, min_samples_leaf=10, criterion=gini, min_samples_split=20, max_features=0.7, score=0.7010828109599425, total=  23.9s\n",
      "[CV]  max_depth=21, min_samples_leaf=10, criterion=gini, min_samples_split=20, max_features=0.7, score=0.6984761602406182, total=  23.5s\n",
      "[CV]  max_depth=21, min_samples_leaf=30, criterion=entropy, min_samples_split=10, max_features=0.9, score=0.7117539075386603, total=  26.0s\n",
      "[CV]  max_depth=21, min_samples_leaf=10, criterion=gini, min_samples_split=20, max_features=0.7, score=0.6992894866655196, total=  20.4s\n"
     ]
    },
    {
     "name": "stderr",
     "output_type": "stream",
     "text": [
      "[Parallel(n_jobs=8)]: Done  60 out of  60 | elapsed:  4.0min finished\n"
     ]
    },
    {
     "data": {
      "text/plain": [
       "RandomizedSearchCV(cv=3, error_score='raise',\n",
       "          estimator=RandomForestClassifier(bootstrap=True, class_weight=None, criterion='gini',\n",
       "            max_depth=None, max_features='auto', max_leaf_nodes=None,\n",
       "            min_impurity_decrease=0.0, min_impurity_split=None,\n",
       "            min_samples_leaf=1, min_samples_split=2,\n",
       "            min_weight_fraction_leaf=0.0, n_estimators=10, n_jobs=1,\n",
       "            oob_score=False, random_state=None, verbose=0,\n",
       "            warm_start=False),\n",
       "          fit_params=None, iid=True, n_iter=20, n_jobs=8,\n",
       "          param_distributions={'max_depth': [5, 13, 21, 29, 37], 'min_samples_split': [10, 20, 30], 'criterion': ['gini', 'entropy'], 'min_samples_leaf': [10, 20, 30], 'max_features': [0.3, 0.7, 0.9]},\n",
       "          pre_dispatch='2*n_jobs', random_state=None, refit=True,\n",
       "          return_train_score='warn', scoring='roc_auc', verbose=3)"
      ]
     },
     "execution_count": 403,
     "metadata": {},
     "output_type": "execute_result"
    }
   ],
   "source": [
    "grid_search.fit(X_train_new,Y_train_new)"
   ]
  },
  {
   "cell_type": "code",
   "execution_count": 406,
   "metadata": {},
   "outputs": [
    {
     "data": {
      "text/plain": [
       "0.7167775225371534"
      ]
     },
     "execution_count": 406,
     "metadata": {},
     "output_type": "execute_result"
    }
   ],
   "source": [
    "grid_search.best_score_"
   ]
  },
  {
   "cell_type": "code",
   "execution_count": 407,
   "metadata": {},
   "outputs": [],
   "source": [
    "best_rf = RandomForestClassifier(**grid_search.best_params_)"
   ]
  },
  {
   "cell_type": "code",
   "execution_count": 409,
   "metadata": {
    "scrolled": true
   },
   "outputs": [
    {
     "name": "stdout",
     "output_type": "stream",
     "text": [
      "[CV]  ................................................................\n",
      "[CV]  ................................................................\n",
      "[CV]  ................................................................\n",
      "[CV]  ................................................................\n",
      "[CV]  ................................................................\n",
      "[CV]  ................................................................\n",
      "[CV]  ................................................................\n",
      "[CV]  ................................................................\n",
      "[CV] ........................ , score=0.722588719048896, total=  21.2s\n",
      "[CV] ....................... , score=0.7056816417552328, total=  21.2s\n"
     ]
    },
    {
     "name": "stderr",
     "output_type": "stream",
     "text": [
      "[Parallel(n_jobs=8)]: Done   2 out of   8 | elapsed:   22.6s remaining:  1.1min\n"
     ]
    },
    {
     "name": "stdout",
     "output_type": "stream",
     "text": [
      "[CV] ....................... , score=0.7047112955357017, total=  21.0s\n",
      "[CV] ....................... , score=0.7056654105093788, total=  21.3s\n",
      "[CV] ....................... , score=0.7318409996565562, total=  20.6s\n"
     ]
    },
    {
     "name": "stderr",
     "output_type": "stream",
     "text": [
      "[Parallel(n_jobs=8)]: Done   5 out of   8 | elapsed:   23.3s remaining:   14.0s\n"
     ]
    },
    {
     "name": "stdout",
     "output_type": "stream",
     "text": [
      "[CV] ....................... , score=0.7171162979821655, total=  19.8s\n",
      "[CV] ....................... , score=0.7237718203432522, total=  20.5s\n",
      "[CV] ....................... , score=0.7265171431830244, total=  19.5s\n"
     ]
    },
    {
     "name": "stderr",
     "output_type": "stream",
     "text": [
      "[Parallel(n_jobs=8)]: Done   8 out of   8 | elapsed:   24.0s remaining:    0.0s\n",
      "[Parallel(n_jobs=8)]: Done   8 out of   8 | elapsed:   24.0s finished\n"
     ]
    }
   ],
   "source": [
    "myIterator=skf.split(X_train_new,Y_train_new)\n",
    "scores2 = cross_val_score(best_rf,X_train_new,Y_train_new ,cv=myIterator,scoring=\"roc_auc\",verbose=3,n_jobs=8)"
   ]
  },
  {
   "cell_type": "code",
   "execution_count": 410,
   "metadata": {},
   "outputs": [
    {
     "name": "stdout",
     "output_type": "stream",
     "text": [
      "RF  val 0.7172\n"
     ]
    }
   ],
   "source": [
    "print(\"RF  val {:.4f}\".format(scores2.mean()))"
   ]
  },
  {
   "cell_type": "code",
   "execution_count": 411,
   "metadata": {
    "scrolled": false
   },
   "outputs": [
    {
     "data": {
      "text/plain": [
       "RandomForestClassifier(bootstrap=True, class_weight=None, criterion='gini',\n",
       "            max_depth=29, max_features=0.3, max_leaf_nodes=None,\n",
       "            min_impurity_decrease=0.0, min_impurity_split=None,\n",
       "            min_samples_leaf=30, min_samples_split=20,\n",
       "            min_weight_fraction_leaf=0.0, n_estimators=10, n_jobs=1,\n",
       "            oob_score=False, random_state=None, verbose=0,\n",
       "            warm_start=False)"
      ]
     },
     "execution_count": 411,
     "metadata": {},
     "output_type": "execute_result"
    }
   ],
   "source": [
    "best_rf.fit(X_train_new,Y_train_new)"
   ]
  },
  {
   "cell_type": "code",
   "execution_count": 412,
   "metadata": {
    "collapsed": true
   },
   "outputs": [],
   "source": [
    "X_test = test.drop([\"0\"],axis=1)"
   ]
  },
  {
   "cell_type": "code",
   "execution_count": null,
   "metadata": {},
   "outputs": [],
   "source": []
  },
  {
   "cell_type": "code",
   "execution_count": 416,
   "metadata": {
    "collapsed": true
   },
   "outputs": [],
   "source": [
    "def submit(vals):\n",
    "    test[\"id\"] = test.index\n",
    "    submission = pd.DataFrame.from_dict({'_ID_': test['id']})\n",
    "    submission[\"_VAL_\"]=vals[:,1]\n",
    "    submission.to_csv(\"submission_b.csv\",index=False)\n",
    "    return  pd.read_csv(\"submission_b.csv\")"
   ]
  },
  {
   "cell_type": "code",
   "execution_count": null,
   "metadata": {
    "collapsed": true
   },
   "outputs": [],
   "source": []
  },
  {
   "cell_type": "code",
   "execution_count": 417,
   "metadata": {
    "collapsed": true
   },
   "outputs": [],
   "source": [
    "from sklearn.ensemble import BaggingClassifier"
   ]
  },
  {
   "cell_type": "code",
   "execution_count": 428,
   "metadata": {},
   "outputs": [
    {
     "name": "stdout",
     "output_type": "stream",
     "text": [
      "Building estimator 1 of 7 for this parallel run (total 50)...\n",
      "Building estimator 1 of 7 for this parallel run (total 50)...\n",
      "Building estimator 1 of 6 for this parallel run (total 50)...\n",
      "Building estimator 1 of 6 for this parallel run (total 50)...\n",
      "Building estimator 1 of 6 for this parallel run (total 50)...\n",
      "Building estimator 1 of 6 for this parallel run (total 50)...\n",
      "Building estimator 1 of 6 for this parallel run (total 50)...\n",
      "Building estimator 1 of 6 for this parallel run (total 50)...\n",
      "Building estimator 2 of 6 for this parallel run (total 50)...\n",
      "Building estimator 2 of 7 for this parallel run (total 50)...\n",
      "Building estimator 2 of 6 for this parallel run (total 50)...\n",
      "Building estimator 2 of 7 for this parallel run (total 50)...\n",
      "Building estimator 2 of 6 for this parallel run (total 50)...\n",
      "Building estimator 2 of 6 for this parallel run (total 50)...\n",
      "Building estimator 2 of 6 for this parallel run (total 50)...\n",
      "Building estimator 2 of 6 for this parallel run (total 50)...\n",
      "Building estimator 3 of 6 for this parallel run (total 50)...\n",
      "Building estimator 3 of 6 for this parallel run (total 50)...\n",
      "Building estimator 3 of 6 for this parallel run (total 50)...\n",
      "Building estimator 3 of 7 for this parallel run (total 50)...\n",
      "Building estimator 3 of 6 for this parallel run (total 50)...\n",
      "Building estimator 3 of 6 for this parallel run (total 50)...\n",
      "Building estimator 3 of 7 for this parallel run (total 50)...\n",
      "Building estimator 3 of 6 for this parallel run (total 50)...\n",
      "Building estimator 4 of 6 for this parallel run (total 50)...\n",
      "Building estimator 4 of 6 for this parallel run (total 50)...\n",
      "Building estimator 4 of 7 for this parallel run (total 50)...\n",
      "Building estimator 4 of 6 for this parallel run (total 50)...\n",
      "Building estimator 4 of 6 for this parallel run (total 50)...\n",
      "Building estimator 4 of 6 for this parallel run (total 50)...\n",
      "Building estimator 4 of 6 for this parallel run (total 50)...\n",
      "Building estimator 4 of 7 for this parallel run (total 50)...\n",
      "Building estimator 5 of 6 for this parallel run (total 50)...\n",
      "Building estimator 5 of 6 for this parallel run (total 50)...\n",
      "Building estimator 5 of 6 for this parallel run (total 50)...\n",
      "Building estimator 5 of 6 for this parallel run (total 50)...\n",
      "Building estimator 5 of 6 for this parallel run (total 50)...\n",
      "Building estimator 5 of 7 for this parallel run (total 50)...\n",
      "Building estimator 5 of 6 for this parallel run (total 50)...\n",
      "Building estimator 5 of 7 for this parallel run (total 50)...\n",
      "Building estimator 6 of 6 for this parallel run (total 50)...\n",
      "Building estimator 6 of 6 for this parallel run (total 50)...\n",
      "Building estimator 6 of 6 for this parallel run (total 50)...\n",
      "Building estimator 6 of 7 for this parallel run (total 50)...\n",
      "Building estimator 6 of 6 for this parallel run (total 50)...\n",
      "Building estimator 6 of 6 for this parallel run (total 50)...\n",
      "Building estimator 6 of 6 for this parallel run (total 50)...\n",
      "Building estimator 6 of 7 for this parallel run (total 50)...\n"
     ]
    },
    {
     "name": "stderr",
     "output_type": "stream",
     "text": [
      "[Parallel(n_jobs=8)]: Done   2 out of   8 | elapsed:  1.3min remaining:  4.0min\n"
     ]
    },
    {
     "name": "stdout",
     "output_type": "stream",
     "text": [
      "Building estimator 7 of 7 for this parallel run (total 50)...\n"
     ]
    },
    {
     "name": "stderr",
     "output_type": "stream",
     "text": [
      "[Parallel(n_jobs=8)]: Done   5 out of   8 | elapsed:  1.4min remaining:   49.1s\n"
     ]
    },
    {
     "name": "stdout",
     "output_type": "stream",
     "text": [
      "Building estimator 7 of 7 for this parallel run (total 50)...\n"
     ]
    },
    {
     "name": "stderr",
     "output_type": "stream",
     "text": [
      "[Parallel(n_jobs=8)]: Done   8 out of   8 | elapsed:  1.4min remaining:    0.0s\n",
      "[Parallel(n_jobs=8)]: Done   8 out of   8 | elapsed:  1.4min finished\n"
     ]
    },
    {
     "data": {
      "text/plain": [
       "BaggingClassifier(base_estimator=LogisticRegression(C=1.0, class_weight=None, dual=False, fit_intercept=True,\n",
       "          intercept_scaling=1, max_iter=100, multi_class='ovr', n_jobs=1,\n",
       "          penalty='l2', random_state=None, solver='liblinear', tol=0.0001,\n",
       "          verbose=0, warm_start=False),\n",
       "         bootstrap=True, bootstrap_features=True, max_features=1.0,\n",
       "         max_samples=1.0, n_estimators=50, n_jobs=8, oob_score=True,\n",
       "         random_state=None, verbose=3, warm_start=False)"
      ]
     },
     "execution_count": 428,
     "metadata": {},
     "output_type": "execute_result"
    }
   ],
   "source": [
    "clas = BaggingClassifier(log_reg,n_estimators=50,oob_score=True,bootstrap_features=True,n_jobs=8,verbose=3)\n",
    "clas.fit(X_train_new,Y_train_new)"
   ]
  },
  {
   "cell_type": "code",
   "execution_count": 424,
   "metadata": {},
   "outputs": [],
   "source": [
    "vals= np.c_[clas.oob_decision_function_,Y_train_new]"
   ]
  },
  {
   "cell_type": "code",
   "execution_count": 425,
   "metadata": {
    "collapsed": true
   },
   "outputs": [],
   "source": [
    "vals = vals[~np.isnan(vals[:,1])]"
   ]
  },
  {
   "cell_type": "code",
   "execution_count": 426,
   "metadata": {
    "collapsed": true
   },
   "outputs": [],
   "source": [
    "preds,true = vals[:,1],vals[:,2]"
   ]
  },
  {
   "cell_type": "code",
   "execution_count": 429,
   "metadata": {},
   "outputs": [
    {
     "data": {
      "text/plain": [
       "0.7250284208539598"
      ]
     },
     "execution_count": 429,
     "metadata": {},
     "output_type": "execute_result"
    }
   ],
   "source": [
    "from sklearn.metrics import roc_auc_score\n",
    "roc_auc_score(Y_train_new,clas.oob_decision_function_[:,1])"
   ]
  },
  {
   "cell_type": "markdown",
   "metadata": {},
   "source": [
    "Ensembles of models"
   ]
  },
  {
   "cell_type": "code",
   "execution_count": 430,
   "metadata": {
    "collapsed": true
   },
   "outputs": [],
   "source": [
    "from sklearn.ensemble import VotingClassifier\n",
    "from sklearn.svm import SVC\n",
    "from sklearn.ensemble import AdaBoostClassifier,ExtraTreesClassifier"
   ]
  },
  {
   "cell_type": "code",
   "execution_count": 434,
   "metadata": {},
   "outputs": [],
   "source": [
    "extree = ExtraTreesClassifier()\n",
    "rand_search = RandomizedSearchCV(extree,param_distributions=param_grid,scoring=\"roc_auc\",cv=myIterator,n_jobs=8,verbose=3)"
   ]
  },
  {
   "cell_type": "code",
   "execution_count": 435,
   "metadata": {
    "scrolled": true
   },
   "outputs": [
    {
     "name": "stdout",
     "output_type": "stream",
     "text": [
      "Fitting 8 folds for each of 10 candidates, totalling 80 fits\n",
      "[CV] max_depth=37, min_samples_leaf=10, criterion=entropy, min_samples_split=20, max_features=0.3 \n",
      "[CV] max_depth=37, min_samples_leaf=10, criterion=entropy, min_samples_split=20, max_features=0.3 \n",
      "[CV] max_depth=37, min_samples_leaf=10, criterion=entropy, min_samples_split=20, max_features=0.3 \n",
      "[CV] max_depth=37, min_samples_leaf=10, criterion=entropy, min_samples_split=20, max_features=0.3 \n",
      "[CV] max_depth=37, min_samples_leaf=10, criterion=entropy, min_samples_split=20, max_features=0.3 \n",
      "[CV] max_depth=37, min_samples_leaf=10, criterion=entropy, min_samples_split=20, max_features=0.3 \n",
      "[CV] max_depth=37, min_samples_leaf=10, criterion=entropy, min_samples_split=20, max_features=0.3 \n",
      "[CV] max_depth=37, min_samples_leaf=10, criterion=entropy, min_samples_split=20, max_features=0.3 \n",
      "[CV]  max_depth=37, min_samples_leaf=10, criterion=entropy, min_samples_split=20, max_features=0.3, score=0.7173293249213136, total=  19.7s\n",
      "[CV] max_depth=21, min_samples_leaf=10, criterion=entropy, min_samples_split=30, max_features=0.9 \n",
      "[CV]  max_depth=37, min_samples_leaf=10, criterion=entropy, min_samples_split=20, max_features=0.3, score=0.7241405672938044, total=  20.9s\n",
      "[CV] max_depth=21, min_samples_leaf=10, criterion=entropy, min_samples_split=30, max_features=0.9 \n",
      "[CV]  max_depth=37, min_samples_leaf=10, criterion=entropy, min_samples_split=20, max_features=0.3, score=0.7179973935912456, total=  20.9s\n",
      "[CV] max_depth=21, min_samples_leaf=10, criterion=entropy, min_samples_split=30, max_features=0.9 \n",
      "[CV]  max_depth=37, min_samples_leaf=10, criterion=entropy, min_samples_split=20, max_features=0.3, score=0.7187452070777641, total=  21.6s\n",
      "[CV]  max_depth=37, min_samples_leaf=10, criterion=entropy, min_samples_split=20, max_features=0.3, score=0.7430777264964503, total=  21.2s\n",
      "[CV] max_depth=21, min_samples_leaf=10, criterion=entropy, min_samples_split=30, max_features=0.9 \n",
      "[CV]  max_depth=37, min_samples_leaf=10, criterion=entropy, min_samples_split=20, max_features=0.3, score=0.7224230205209587, total=  21.3s\n",
      "[CV] max_depth=21, min_samples_leaf=10, criterion=entropy, min_samples_split=30, max_features=0.9 \n",
      "[CV]  max_depth=37, min_samples_leaf=10, criterion=entropy, min_samples_split=20, max_features=0.3, score=0.7299513095500298, total=  21.5s\n",
      "[CV] max_depth=21, min_samples_leaf=10, criterion=entropy, min_samples_split=30, max_features=0.9 \n",
      "[CV]  max_depth=37, min_samples_leaf=10, criterion=entropy, min_samples_split=20, max_features=0.3, score=0.7260340441095376, total=  21.3s\n",
      "[CV] max_depth=21, min_samples_leaf=10, criterion=entropy, min_samples_split=30, max_features=0.9 \n",
      "[CV] max_depth=21, min_samples_leaf=10, criterion=entropy, min_samples_split=30, max_features=0.9 \n",
      "[CV]  max_depth=21, min_samples_leaf=10, criterion=entropy, min_samples_split=30, max_features=0.9, score=0.7122950511166627, total= 1.2min\n",
      "[CV]  max_depth=21, min_samples_leaf=10, criterion=entropy, min_samples_split=30, max_features=0.9, score=0.723199390269721, total= 1.1min\n",
      "[CV] max_depth=5, min_samples_leaf=30, criterion=entropy, min_samples_split=10, max_features=0.3 \n",
      "[CV] max_depth=5, min_samples_leaf=30, criterion=entropy, min_samples_split=10, max_features=0.3 \n",
      "[CV]  max_depth=21, min_samples_leaf=10, criterion=entropy, min_samples_split=30, max_features=0.9, score=0.7026061735190753, total= 1.2min\n",
      "[CV]  max_depth=21, min_samples_leaf=10, criterion=entropy, min_samples_split=30, max_features=0.9, score=0.7383254999929428, total= 1.1min\n",
      "[CV] max_depth=5, min_samples_leaf=30, criterion=entropy, min_samples_split=10, max_features=0.3 \n",
      "[CV] max_depth=5, min_samples_leaf=30, criterion=entropy, min_samples_split=10, max_features=0.3 \n",
      "[CV]  max_depth=21, min_samples_leaf=10, criterion=entropy, min_samples_split=30, max_features=0.9, score=0.7214367710641582, total= 1.2min\n",
      "[CV] max_depth=5, min_samples_leaf=30, criterion=entropy, min_samples_split=10, max_features=0.3 \n",
      "[CV]  max_depth=21, min_samples_leaf=10, criterion=entropy, min_samples_split=30, max_features=0.9, score=0.7155084212924007, total= 1.2min\n",
      "[CV] max_depth=5, min_samples_leaf=30, criterion=entropy, min_samples_split=10, max_features=0.3 \n",
      "[CV]  max_depth=21, min_samples_leaf=10, criterion=entropy, min_samples_split=30, max_features=0.9, score=0.7164474732268851, total= 1.1min\n",
      "[CV] max_depth=5, min_samples_leaf=30, criterion=entropy, min_samples_split=10, max_features=0.3 \n",
      "[CV]  max_depth=21, min_samples_leaf=10, criterion=entropy, min_samples_split=30, max_features=0.9, score=0.727017693467592, total= 1.2min\n",
      "[CV] max_depth=5, min_samples_leaf=30, criterion=entropy, min_samples_split=10, max_features=0.3 \n"
     ]
    },
    {
     "name": "stderr",
     "output_type": "stream",
     "text": [
      "[Parallel(n_jobs=8)]: Done  16 tasks      | elapsed:  1.6min\n"
     ]
    },
    {
     "name": "stdout",
     "output_type": "stream",
     "text": [
      "[CV]  max_depth=5, min_samples_leaf=30, criterion=entropy, min_samples_split=10, max_features=0.3, score=0.6891269471614139, total=   7.2s\n",
      "[CV] max_depth=5, min_samples_leaf=10, criterion=entropy, min_samples_split=10, max_features=0.9 \n",
      "[CV]  max_depth=5, min_samples_leaf=30, criterion=entropy, min_samples_split=10, max_features=0.3, score=0.7073772188583553, total=   7.1s\n",
      "[CV] max_depth=5, min_samples_leaf=10, criterion=entropy, min_samples_split=10, max_features=0.9 \n",
      "[CV]  max_depth=5, min_samples_leaf=30, criterion=entropy, min_samples_split=10, max_features=0.3, score=0.6937020413732105, total=   6.9s\n",
      "[CV] max_depth=5, min_samples_leaf=10, criterion=entropy, min_samples_split=10, max_features=0.9 \n",
      "[CV]  max_depth=5, min_samples_leaf=30, criterion=entropy, min_samples_split=10, max_features=0.3, score=0.702977139819245, total=   6.8s\n",
      "[CV] max_depth=5, min_samples_leaf=10, criterion=entropy, min_samples_split=10, max_features=0.9 \n",
      "[CV]  max_depth=5, min_samples_leaf=30, criterion=entropy, min_samples_split=10, max_features=0.3, score=0.7106618114070373, total=   6.4s\n",
      "[CV] max_depth=5, min_samples_leaf=10, criterion=entropy, min_samples_split=10, max_features=0.9 \n",
      "[CV]  max_depth=5, min_samples_leaf=30, criterion=entropy, min_samples_split=10, max_features=0.3, score=0.687373049981834, total=   6.7s\n",
      "[CV] max_depth=5, min_samples_leaf=10, criterion=entropy, min_samples_split=10, max_features=0.9 \n",
      "[CV]  max_depth=5, min_samples_leaf=30, criterion=entropy, min_samples_split=10, max_features=0.3, score=0.6963837952007953, total=   6.6s\n",
      "[CV] max_depth=5, min_samples_leaf=10, criterion=entropy, min_samples_split=10, max_features=0.9 \n",
      "[CV]  max_depth=5, min_samples_leaf=30, criterion=entropy, min_samples_split=10, max_features=0.3, score=0.7075311139369134, total=   6.6s\n",
      "[CV] max_depth=5, min_samples_leaf=10, criterion=entropy, min_samples_split=10, max_features=0.9 \n",
      "[CV]  max_depth=5, min_samples_leaf=10, criterion=entropy, min_samples_split=10, max_features=0.9, score=0.6960313427709794, total=  14.7s\n",
      "[CV] max_depth=5, min_samples_leaf=20, criterion=entropy, min_samples_split=10, max_features=0.9 \n",
      "[CV]  max_depth=5, min_samples_leaf=10, criterion=entropy, min_samples_split=10, max_features=0.9, score=0.6894663919116644, total=  15.2s\n",
      "[CV] max_depth=5, min_samples_leaf=20, criterion=entropy, min_samples_split=10, max_features=0.9 \n",
      "[CV]  max_depth=5, min_samples_leaf=10, criterion=entropy, min_samples_split=10, max_features=0.9, score=0.6954470179202363, total=  15.0s\n",
      "[CV] max_depth=5, min_samples_leaf=20, criterion=entropy, min_samples_split=10, max_features=0.9 \n",
      "[CV]  max_depth=5, min_samples_leaf=10, criterion=entropy, min_samples_split=10, max_features=0.9, score=0.6990421212591683, total=  15.0s\n",
      "[CV] max_depth=5, min_samples_leaf=20, criterion=entropy, min_samples_split=10, max_features=0.9 \n",
      "[CV]  max_depth=5, min_samples_leaf=10, criterion=entropy, min_samples_split=10, max_features=0.9, score=0.7105201996678475, total=  15.2s\n",
      "[CV] max_depth=5, min_samples_leaf=20, criterion=entropy, min_samples_split=10, max_features=0.9 \n",
      "[CV]  max_depth=5, min_samples_leaf=10, criterion=entropy, min_samples_split=10, max_features=0.9, score=0.6890112817269155, total=  14.7s\n",
      "[CV] max_depth=5, min_samples_leaf=20, criterion=entropy, min_samples_split=10, max_features=0.9 \n",
      "[CV]  max_depth=5, min_samples_leaf=10, criterion=entropy, min_samples_split=10, max_features=0.9, score=0.7008106917564141, total=  15.0s\n",
      "[CV] max_depth=5, min_samples_leaf=20, criterion=entropy, min_samples_split=10, max_features=0.9 \n",
      "[CV]  max_depth=5, min_samples_leaf=10, criterion=entropy, min_samples_split=10, max_features=0.9, score=0.7101181683899557, total=  14.8s\n",
      "[CV] max_depth=5, min_samples_leaf=20, criterion=entropy, min_samples_split=10, max_features=0.9 \n",
      "[CV]  max_depth=5, min_samples_leaf=20, criterion=entropy, min_samples_split=10, max_features=0.9, score=0.6943162411257429, total=  12.6s\n",
      "[CV] max_depth=37, min_samples_leaf=20, criterion=gini, min_samples_split=30, max_features=0.7 \n",
      "[CV]  max_depth=5, min_samples_leaf=20, criterion=entropy, min_samples_split=10, max_features=0.9, score=0.6879613555207408, total=  13.1s\n",
      "[CV] max_depth=37, min_samples_leaf=20, criterion=gini, min_samples_split=30, max_features=0.7 \n",
      "[CV]  max_depth=5, min_samples_leaf=20, criterion=entropy, min_samples_split=10, max_features=0.9, score=0.6864276204052636, total=  12.4s\n",
      "[CV] max_depth=37, min_samples_leaf=20, criterion=gini, min_samples_split=30, max_features=0.7 \n",
      "[CV]  max_depth=5, min_samples_leaf=20, criterion=entropy, min_samples_split=10, max_features=0.9, score=0.6975081509082441, total=  12.6s\n",
      "[CV] max_depth=37, min_samples_leaf=20, criterion=gini, min_samples_split=30, max_features=0.7 \n",
      "[CV]  max_depth=5, min_samples_leaf=20, criterion=entropy, min_samples_split=10, max_features=0.9, score=0.7030853481249383, total=  12.4s\n",
      "[CV] max_depth=37, min_samples_leaf=20, criterion=gini, min_samples_split=30, max_features=0.7 \n",
      "[CV]  max_depth=5, min_samples_leaf=20, criterion=entropy, min_samples_split=10, max_features=0.9, score=0.6885079525538719, total=  12.4s\n",
      "[CV] max_depth=37, min_samples_leaf=20, criterion=gini, min_samples_split=30, max_features=0.7 \n",
      "[CV]  max_depth=5, min_samples_leaf=20, criterion=entropy, min_samples_split=10, max_features=0.9, score=0.6976580015925814, total=  12.3s\n",
      "[CV] max_depth=37, min_samples_leaf=20, criterion=gini, min_samples_split=30, max_features=0.7 \n",
      "[CV]  max_depth=5, min_samples_leaf=20, criterion=entropy, min_samples_split=10, max_features=0.9, score=0.7060313858863432, total=  12.1s\n",
      "[CV] max_depth=37, min_samples_leaf=20, criterion=gini, min_samples_split=30, max_features=0.7 \n",
      "[CV]  max_depth=37, min_samples_leaf=20, criterion=gini, min_samples_split=30, max_features=0.7, score=0.7131562480887119, total=  46.9s\n",
      "[CV] max_depth=5, min_samples_leaf=30, criterion=entropy, min_samples_split=20, max_features=0.9 \n",
      "[CV]  max_depth=37, min_samples_leaf=20, criterion=gini, min_samples_split=30, max_features=0.7, score=0.7252181808772401, total=  48.9s\n",
      "[CV] max_depth=5, min_samples_leaf=30, criterion=entropy, min_samples_split=20, max_features=0.9 \n",
      "[CV]  max_depth=37, min_samples_leaf=20, criterion=gini, min_samples_split=30, max_features=0.7, score=0.7201135716738883, total=  48.8s\n",
      "[CV] max_depth=5, min_samples_leaf=30, criterion=entropy, min_samples_split=20, max_features=0.9 \n",
      "[CV]  max_depth=37, min_samples_leaf=20, criterion=gini, min_samples_split=30, max_features=0.7, score=0.7256872403588752, total=  50.2s\n",
      "[CV]  max_depth=37, min_samples_leaf=20, criterion=gini, min_samples_split=30, max_features=0.7, score=0.7398794653568757, total=  48.8s\n",
      "[CV] max_depth=5, min_samples_leaf=30, criterion=entropy, min_samples_split=20, max_features=0.9 \n",
      "[CV] max_depth=5, min_samples_leaf=30, criterion=entropy, min_samples_split=20, max_features=0.9 \n",
      "[CV]  max_depth=37, min_samples_leaf=20, criterion=gini, min_samples_split=30, max_features=0.7, score=0.7142996312213744, total=  49.5s\n",
      "[CV] max_depth=5, min_samples_leaf=30, criterion=entropy, min_samples_split=20, max_features=0.9 \n",
      "[CV]  max_depth=37, min_samples_leaf=20, criterion=gini, min_samples_split=30, max_features=0.7, score=0.7226091511314671, total=  50.5s\n",
      "[CV] max_depth=5, min_samples_leaf=30, criterion=entropy, min_samples_split=20, max_features=0.9 \n",
      "[CV]  max_depth=37, min_samples_leaf=20, criterion=gini, min_samples_split=30, max_features=0.7, score=0.7299695341228193, total=  50.6s\n",
      "[CV] max_depth=5, min_samples_leaf=30, criterion=entropy, min_samples_split=20, max_features=0.9 \n",
      "[CV]  max_depth=5, min_samples_leaf=30, criterion=entropy, min_samples_split=20, max_features=0.9, score=0.6861366341571279, total=  17.6s\n",
      "[CV] max_depth=29, min_samples_leaf=20, criterion=entropy, min_samples_split=10, max_features=0.9 \n",
      "[CV]  max_depth=5, min_samples_leaf=30, criterion=entropy, min_samples_split=20, max_features=0.9, score=0.7025238411125696, total=  17.0s\n",
      "[CV] max_depth=29, min_samples_leaf=20, criterion=entropy, min_samples_split=10, max_features=0.9 \n",
      "[CV]  max_depth=5, min_samples_leaf=30, criterion=entropy, min_samples_split=20, max_features=0.9, score=0.6873685621938997, total=  17.2s\n",
      "[CV] max_depth=29, min_samples_leaf=20, criterion=entropy, min_samples_split=10, max_features=0.9 \n"
     ]
    },
    {
     "name": "stdout",
     "output_type": "stream",
     "text": [
      "[CV]  max_depth=5, min_samples_leaf=30, criterion=entropy, min_samples_split=20, max_features=0.9, score=0.7015050363909235, total=  17.3s\n",
      "[CV] max_depth=29, min_samples_leaf=20, criterion=entropy, min_samples_split=10, max_features=0.9 \n",
      "[CV]  max_depth=5, min_samples_leaf=30, criterion=entropy, min_samples_split=20, max_features=0.9, score=0.7011112522523795, total=  17.2s\n",
      "[CV] max_depth=29, min_samples_leaf=20, criterion=entropy, min_samples_split=10, max_features=0.9 \n",
      "[CV]  max_depth=5, min_samples_leaf=30, criterion=entropy, min_samples_split=20, max_features=0.9, score=0.6849801774429466, total=  16.6s\n",
      "[CV] max_depth=29, min_samples_leaf=20, criterion=entropy, min_samples_split=10, max_features=0.9 \n",
      "[CV]  max_depth=5, min_samples_leaf=30, criterion=entropy, min_samples_split=20, max_features=0.9, score=0.6999471021981767, total=  16.3s\n",
      "[CV] max_depth=29, min_samples_leaf=20, criterion=entropy, min_samples_split=10, max_features=0.9 \n",
      "[CV]  max_depth=5, min_samples_leaf=30, criterion=entropy, min_samples_split=20, max_features=0.9, score=0.7008659963293897, total=  16.2s\n",
      "[CV] max_depth=29, min_samples_leaf=20, criterion=entropy, min_samples_split=10, max_features=0.9 \n",
      "[CV]  max_depth=29, min_samples_leaf=20, criterion=entropy, min_samples_split=10, max_features=0.9, score=0.7219086533711592, total=  59.5s\n",
      "[CV] max_depth=5, min_samples_leaf=10, criterion=entropy, min_samples_split=30, max_features=0.9 \n",
      "[CV]  max_depth=29, min_samples_leaf=20, criterion=entropy, min_samples_split=10, max_features=0.9, score=0.7076432701490923, total=  57.6s\n",
      "[CV] max_depth=5, min_samples_leaf=10, criterion=entropy, min_samples_split=30, max_features=0.9 \n",
      "[CV]  max_depth=29, min_samples_leaf=20, criterion=entropy, min_samples_split=10, max_features=0.9, score=0.7351018334250751, total=  57.6s\n",
      "[CV] max_depth=5, min_samples_leaf=10, criterion=entropy, min_samples_split=30, max_features=0.9 \n",
      "[CV]  max_depth=29, min_samples_leaf=20, criterion=entropy, min_samples_split=10, max_features=0.9, score=0.7172368773905802, total= 1.0min\n",
      "[CV] max_depth=5, min_samples_leaf=10, criterion=entropy, min_samples_split=30, max_features=0.9 \n",
      "[CV]  max_depth=29, min_samples_leaf=20, criterion=entropy, min_samples_split=10, max_features=0.9, score=0.7219001605758896, total=  58.7s\n",
      "[CV]  max_depth=29, min_samples_leaf=20, criterion=entropy, min_samples_split=10, max_features=0.9, score=0.721304589684364, total=  57.9s\n",
      "[CV]  max_depth=29, min_samples_leaf=20, criterion=entropy, min_samples_split=10, max_features=0.9, score=0.7161961957723486, total= 1.0min\n",
      "[CV] max_depth=5, min_samples_leaf=10, criterion=entropy, min_samples_split=30, max_features=0.9 \n",
      "[CV]  max_depth=29, min_samples_leaf=20, criterion=entropy, min_samples_split=10, max_features=0.9, score=0.7214474308084298, total=  57.6s\n",
      "[CV] max_depth=5, min_samples_leaf=10, criterion=entropy, min_samples_split=30, max_features=0.9 \n",
      "[CV] max_depth=5, min_samples_leaf=10, criterion=entropy, min_samples_split=30, max_features=0.9 \n",
      "[CV] max_depth=5, min_samples_leaf=10, criterion=entropy, min_samples_split=30, max_features=0.9 \n",
      "[CV]  max_depth=5, min_samples_leaf=10, criterion=entropy, min_samples_split=30, max_features=0.9, score=0.6874546583675601, total=  15.4s\n",
      "[CV] max_depth=13, min_samples_leaf=10, criterion=gini, min_samples_split=10, max_features=0.9 \n",
      "[CV]  max_depth=5, min_samples_leaf=10, criterion=entropy, min_samples_split=30, max_features=0.9, score=0.7044073713379723, total=  15.1s\n",
      "[CV] max_depth=13, min_samples_leaf=10, criterion=gini, min_samples_split=10, max_features=0.9 \n",
      "[CV]  max_depth=5, min_samples_leaf=10, criterion=entropy, min_samples_split=30, max_features=0.9, score=0.6925166899549758, total=  14.9s\n",
      "[CV] max_depth=13, min_samples_leaf=10, criterion=gini, min_samples_split=10, max_features=0.9 \n",
      "[CV]  max_depth=5, min_samples_leaf=10, criterion=entropy, min_samples_split=30, max_features=0.9, score=0.6968205576961982, total=  15.5s\n",
      "[CV] max_depth=13, min_samples_leaf=10, criterion=gini, min_samples_split=10, max_features=0.9 \n",
      "[CV]  max_depth=5, min_samples_leaf=10, criterion=entropy, min_samples_split=30, max_features=0.9, score=0.706132823342884, total=  15.0s\n",
      "[CV]  max_depth=5, min_samples_leaf=10, criterion=entropy, min_samples_split=30, max_features=0.9, score=0.6909582408563042, total=  14.9s\n",
      "[CV] max_depth=13, min_samples_leaf=10, criterion=gini, min_samples_split=10, max_features=0.9 \n",
      "[CV] max_depth=13, min_samples_leaf=10, criterion=gini, min_samples_split=10, max_features=0.9 \n",
      "[CV]  max_depth=5, min_samples_leaf=10, criterion=entropy, min_samples_split=30, max_features=0.9, score=0.704316818300757, total=  15.4s\n",
      "[CV] max_depth=13, min_samples_leaf=10, criterion=gini, min_samples_split=10, max_features=0.9 \n",
      "[CV]  max_depth=5, min_samples_leaf=10, criterion=entropy, min_samples_split=30, max_features=0.9, score=0.708208630930218, total=  15.2s\n",
      "[CV] max_depth=13, min_samples_leaf=10, criterion=gini, min_samples_split=10, max_features=0.9 \n",
      "[CV]  max_depth=13, min_samples_leaf=10, criterion=gini, min_samples_split=10, max_features=0.9, score=0.7157412504175429, total=  34.0s\n",
      "[CV]  max_depth=13, min_samples_leaf=10, criterion=gini, min_samples_split=10, max_features=0.9, score=0.7155285975733112, total=  34.5s\n",
      "[CV]  max_depth=13, min_samples_leaf=10, criterion=gini, min_samples_split=10, max_features=0.9, score=0.7044294834700051, total=  34.1s\n",
      "[CV]  max_depth=13, min_samples_leaf=10, criterion=gini, min_samples_split=10, max_features=0.9, score=0.7141995172968625, total=  33.3s\n",
      "[CV]  max_depth=13, min_samples_leaf=10, criterion=gini, min_samples_split=10, max_features=0.9, score=0.7110186968315911, total=  32.8s\n",
      "[CV]  max_depth=13, min_samples_leaf=10, criterion=gini, min_samples_split=10, max_features=0.9, score=0.7226889293493858, total=  33.1s\n",
      "[CV]  max_depth=13, min_samples_leaf=10, criterion=gini, min_samples_split=10, max_features=0.9, score=0.726956748046452, total=  32.2s\n",
      "[CV]  max_depth=13, min_samples_leaf=10, criterion=gini, min_samples_split=10, max_features=0.9, score=0.7278488470192551, total=  31.8s\n"
     ]
    },
    {
     "name": "stderr",
     "output_type": "stream",
     "text": [
      "[Parallel(n_jobs=8)]: Done  80 out of  80 | elapsed:  5.1min finished\n"
     ]
    },
    {
     "data": {
      "text/plain": [
       "RandomizedSearchCV(cv=<generator object _BaseKFold.split at 0x129980150>,\n",
       "          error_score='raise',\n",
       "          estimator=ExtraTreesClassifier(bootstrap=False, class_weight=None, criterion='gini',\n",
       "           max_depth=None, max_features='auto', max_leaf_nodes=None,\n",
       "           min_impurity_decrease=0.0, min_impurity_split=None,\n",
       "           min_samples_leaf=1, min_samples_split=2,\n",
       "           min_weight_fraction_leaf=0.0, n_estimators=10, n_jobs=1,\n",
       "           oob_score=False, random_state=None, verbose=0, warm_start=False),\n",
       "          fit_params=None, iid=True, n_iter=10, n_jobs=8,\n",
       "          param_distributions={'max_depth': [5, 13, 21, 29, 37], 'min_samples_split': [10, 20, 30], 'criterion': ['gini', 'entropy'], 'min_samples_leaf': [10, 20, 30], 'max_features': [0.3, 0.7, 0.9]},\n",
       "          pre_dispatch='2*n_jobs', random_state=None, refit=True,\n",
       "          return_train_score='warn', scoring='roc_auc', verbose=3)"
      ]
     },
     "execution_count": 435,
     "metadata": {},
     "output_type": "execute_result"
    }
   ],
   "source": [
    "myIterator=skf.split(X_train_new,Y_train_new)\n",
    "rand_search.fit(X_train_new,Y_train_new)"
   ]
  },
  {
   "cell_type": "code",
   "execution_count": 436,
   "metadata": {},
   "outputs": [
    {
     "data": {
      "text/plain": [
       "0.7249621736009902"
      ]
     },
     "execution_count": 436,
     "metadata": {},
     "output_type": "execute_result"
    }
   ],
   "source": [
    "rand_search.best_score_"
   ]
  },
  {
   "cell_type": "code",
   "execution_count": 437,
   "metadata": {
    "collapsed": true
   },
   "outputs": [],
   "source": [
    "extr_tree = ExtraTreesClassifier(**rand_search.best_params_)"
   ]
  },
  {
   "cell_type": "code",
   "execution_count": 438,
   "metadata": {},
   "outputs": [
    {
     "name": "stdout",
     "output_type": "stream",
     "text": [
      "Classifier is being trained RandomForestClassifier(bootstrap=True, class_weight=None, criterion='gini',\n",
      "            max_depth=29, max_features=0.3, max_leaf_nodes=None,\n",
      "            min_impurity_decrease=0.0, min_impurity_split=None,\n",
      "            min_samples_leaf=30, min_samples_split=20,\n",
      "            min_weight_fraction_leaf=0.0, n_estimators=10, n_jobs=1,\n",
      "            oob_score=False, random_state=None, verbose=0,\n",
      "            warm_start=False)\n",
      "Classifier is being trained LogisticRegression(C=1.0, class_weight=None, dual=False, fit_intercept=True,\n",
      "          intercept_scaling=1, max_iter=100, multi_class='ovr', n_jobs=1,\n",
      "          penalty='l2', random_state=None, solver='liblinear', tol=0.0001,\n",
      "          verbose=0, warm_start=False)\n",
      "Classifier is being trained ExtraTreesClassifier(bootstrap=False, class_weight=None, criterion='entropy',\n",
      "           max_depth=37, max_features=0.3, max_leaf_nodes=None,\n",
      "           min_impurity_decrease=0.0, min_impurity_split=None,\n",
      "           min_samples_leaf=10, min_samples_split=20,\n",
      "           min_weight_fraction_leaf=0.0, n_estimators=10, n_jobs=1,\n",
      "           oob_score=False, random_state=None, verbose=0, warm_start=False)\n"
     ]
    }
   ],
   "source": [
    "preds = []\n",
    "for clf in (best_rf,log_reg,extr_tree):\n",
    "    print(\"Classifier is being trained {}\".format(clf))\n",
    "    clf.fit(X_train_new,Y_train_new)\n",
    "    preds.append(clf.predict_proba(X_test)[:,1])\n",
    "    "
   ]
  },
  {
   "cell_type": "code",
   "execution_count": 439,
   "metadata": {},
   "outputs": [
    {
     "data": {
      "text/plain": [
       "array([[1.        , 0.80300428],\n",
       "       [0.80300428, 1.        ]])"
      ]
     },
     "execution_count": 439,
     "metadata": {},
     "output_type": "execute_result"
    }
   ],
   "source": [
    "np.corrcoef(preds[0],preds[1])"
   ]
  },
  {
   "cell_type": "code",
   "execution_count": 440,
   "metadata": {},
   "outputs": [
    {
     "data": {
      "text/plain": [
       "array([[1.        , 0.78441624],\n",
       "       [0.78441624, 1.        ]])"
      ]
     },
     "execution_count": 440,
     "metadata": {},
     "output_type": "execute_result"
    }
   ],
   "source": [
    "np.corrcoef(preds[1],preds[2])"
   ]
  },
  {
   "cell_type": "code",
   "execution_count": 441,
   "metadata": {
    "scrolled": true
   },
   "outputs": [
    {
     "data": {
      "text/plain": [
       "array([[1.       , 0.8438106],\n",
       "       [0.8438106, 1.       ]])"
      ]
     },
     "execution_count": 441,
     "metadata": {},
     "output_type": "execute_result"
    }
   ],
   "source": [
    "np.corrcoef(preds[0],preds[2])"
   ]
  },
  {
   "cell_type": "markdown",
   "metadata": {},
   "source": [
    "Seems like our predictions are not completely correlated which makes it a good choice for the ensemble"
   ]
  },
  {
   "cell_type": "code",
   "execution_count": 442,
   "metadata": {
    "scrolled": true
   },
   "outputs": [
    {
     "name": "stdout",
     "output_type": "stream",
     "text": [
      "[CV]  ................................................................\n",
      "[CV] ....................... , score=0.7369305537912897, total=   9.3s\n",
      "[CV]  ................................................................\n"
     ]
    },
    {
     "name": "stderr",
     "output_type": "stream",
     "text": [
      "[Parallel(n_jobs=1)]: Done   1 out of   1 | elapsed:    9.3s remaining:    0.0s\n"
     ]
    },
    {
     "name": "stdout",
     "output_type": "stream",
     "text": [
      "[CV] ....................... , score=0.7377463503220373, total=  11.6s\n",
      "[CV]  ................................................................\n"
     ]
    },
    {
     "name": "stderr",
     "output_type": "stream",
     "text": [
      "[Parallel(n_jobs=1)]: Done   2 out of   2 | elapsed:   20.9s remaining:    0.0s\n"
     ]
    },
    {
     "name": "stdout",
     "output_type": "stream",
     "text": [
      "[CV] ........................ , score=0.729756813594727, total=  11.4s\n",
      "[CV]  ................................................................\n",
      "[CV] ........................ , score=0.735573245261182, total=  10.6s\n",
      "[CV]  ................................................................\n",
      "[CV] ....................... , score=0.7536910794013729, total=   9.6s\n",
      "[CV]  ................................................................\n",
      "[CV] ....................... , score=0.7334586126469044, total=  10.3s\n",
      "[CV]  ................................................................\n",
      "[CV] ....................... , score=0.7384208406044279, total=   9.7s\n",
      "[CV]  ................................................................\n",
      "[CV] ......................... , score=0.73752261139322, total=   9.6s\n"
     ]
    },
    {
     "name": "stderr",
     "output_type": "stream",
     "text": [
      "[Parallel(n_jobs=1)]: Done   8 out of   8 | elapsed:  1.4min finished\n"
     ]
    }
   ],
   "source": [
    "voting_clf = VotingClassifier(estimators=[(\"lr\",log_reg),(\"rf\",best_rf),(\"extrees\",extr_tree)],voting=\"soft\")\n",
    "scores3 = cross_val_score(voting_clf,X_train_new,Y_train_new,cv=myIterator,n_jobs=1,scoring=\"roc_auc\",verbose=3)"
   ]
  },
  {
   "cell_type": "code",
   "execution_count": 444,
   "metadata": {},
   "outputs": [
    {
     "name": "stdout",
     "output_type": "stream",
     "text": [
      "Ensembles val 0.7379 \n"
     ]
    }
   ],
   "source": [
    "print(\"Ensembles val {:.4f} \".format(scores3.mean()))"
   ]
  },
  {
   "cell_type": "code",
   "execution_count": 445,
   "metadata": {},
   "outputs": [
    {
     "data": {
      "text/plain": [
       "VotingClassifier(estimators=[('lr', LogisticRegression(C=1.0, class_weight=None, dual=False, fit_intercept=True,\n",
       "          intercept_scaling=1, max_iter=100, multi_class='ovr', n_jobs=1,\n",
       "          penalty='l2', random_state=None, solver='liblinear', tol=0.0001,\n",
       "          verbose=0, warm_start=False)), ('rf', RandomF...timators=10, n_jobs=1,\n",
       "           oob_score=False, random_state=None, verbose=0, warm_start=False))],\n",
       "         flatten_transform=None, n_jobs=1, voting='soft', weights=None)"
      ]
     },
     "execution_count": 445,
     "metadata": {},
     "output_type": "execute_result"
    }
   ],
   "source": [
    "voting_clf.fit(X_train_new,Y_train_new)"
   ]
  },
  {
   "cell_type": "markdown",
   "metadata": {},
   "source": [
    "## Stacking"
   ]
  },
  {
   "cell_type": "code",
   "execution_count": 447,
   "metadata": {},
   "outputs": [],
   "source": [
    "rf_predictions = []\n",
    "et_predictions = []\n",
    "log_predictions=[]\n",
    "for train, val in skf.split(X_train_new,Y_train_new):\n",
    "    best_rf.fit(X_train_new.iloc[train], Y_train_new[train])\n",
    "    extr_tree.fit(X_train_new.iloc[train], Y_train_new[train])\n",
    "    log_reg.fit(X_train_new.iloc[train],Y_train_new[train])\n",
    "    rf_predictions.append([Y_train_new[val], best_rf.predict_proba(X_train_new.iloc[val])[:,1]])\n",
    "    et_predictions.append([Y_train_new[val], extr_tree.predict_proba(X_train_new.iloc[val])[:,1]])\n",
    "    log_predictions.append([Y_train_new[val], log_reg.predict_proba(X_train_new.iloc[val])[:,1]])\n",
    "    "
   ]
  },
  {
   "cell_type": "code",
   "execution_count": 448,
   "metadata": {
    "collapsed": true
   },
   "outputs": [],
   "source": [
    "X_train_aug = X_train_new.copy()"
   ]
  },
  {
   "cell_type": "code",
   "execution_count": 450,
   "metadata": {},
   "outputs": [],
   "source": [
    "X_train_aug[\"rf_preds\"] = 0\n",
    "X_train_aug[\"et_preds\"] = 0\n",
    "X_train_aug[\"log_preds\"]=0"
   ]
  },
  {
   "cell_type": "code",
   "execution_count": 451,
   "metadata": {
    "collapsed": true
   },
   "outputs": [],
   "source": [
    "for i, fold in enumerate(skf.split(X_train_new,Y_train_new)):\n",
    "    train, val = fold[0], fold[1]\n",
    "    X_train_aug.iloc[val, -1] = rf_predictions[i][1]\n",
    "    X_train_aug.iloc[val, -2] = et_predictions[i][1]\n",
    "    X_train_aug.iloc[val, -3] = log_predictions[i][1]"
   ]
  },
  {
   "cell_type": "code",
   "execution_count": 456,
   "metadata": {},
   "outputs": [],
   "source": [
    "import xgboost "
   ]
  },
  {
   "cell_type": "code",
   "execution_count": 457,
   "metadata": {
    "collapsed": true
   },
   "outputs": [],
   "source": [
    "xgbClas = xgboost.XGBClassifier()"
   ]
  },
  {
   "cell_type": "code",
   "execution_count": 458,
   "metadata": {},
   "outputs": [
    {
     "name": "stdout",
     "output_type": "stream",
     "text": [
      "[CV]  ................................................................\n",
      "[CV]  ................................................................\n",
      "[CV]  ................................................................\n",
      "[CV]  ................................................................\n",
      "[CV]  ................................................................\n",
      "[CV]  ................................................................\n",
      "[CV]  ................................................................\n",
      "[CV]  ................................................................\n",
      "[CV] ....................... , score=0.7472564489797839, total= 1.3min\n",
      "[CV] ....................... , score=0.7397832540589877, total= 1.3min\n"
     ]
    },
    {
     "name": "stderr",
     "output_type": "stream",
     "text": [
      "[Parallel(n_jobs=8)]: Done   2 out of   8 | elapsed:  1.4min remaining:  4.1min\n"
     ]
    },
    {
     "name": "stdout",
     "output_type": "stream",
     "text": [
      "[CV] ......................... , score=0.73902955968629, total= 1.3min\n",
      "[CV] ....................... , score=0.7300376847186348, total= 1.3min\n",
      "[CV] ........................ , score=0.749017892008111, total= 1.3min\n"
     ]
    },
    {
     "name": "stderr",
     "output_type": "stream",
     "text": [
      "[Parallel(n_jobs=8)]: Done   5 out of   8 | elapsed:  1.4min remaining:   49.3s\n"
     ]
    },
    {
     "name": "stdout",
     "output_type": "stream",
     "text": [
      "[CV] ....................... , score=0.7387542755919001, total= 1.3min\n",
      "[CV] ....................... , score=0.7386147364616453, total= 1.3min\n",
      "[CV] ....................... , score=0.7333677237031501, total= 1.3min\n"
     ]
    },
    {
     "name": "stderr",
     "output_type": "stream",
     "text": [
      "[Parallel(n_jobs=8)]: Done   8 out of   8 | elapsed:  1.4min remaining:    0.0s\n",
      "[Parallel(n_jobs=8)]: Done   8 out of   8 | elapsed:  1.4min finished\n"
     ]
    }
   ],
   "source": [
    "myIterator=skf.split(X_train_aug,Y_train_new)\n",
    "scores_xgb = cross_val_score(xgbClas,X_train_aug,Y_train_new,cv=myIterator,n_jobs=8,scoring=\"roc_auc\",verbose=3)"
   ]
  },
  {
   "cell_type": "code",
   "execution_count": 459,
   "metadata": {},
   "outputs": [
    {
     "name": "stdout",
     "output_type": "stream",
     "text": [
      "Using stacking 0.73948\n"
     ]
    }
   ],
   "source": [
    "print(\"Using stacking {:.5f}\".format(scores_xgb.mean()))"
   ]
  },
  {
   "cell_type": "code",
   "execution_count": 468,
   "metadata": {},
   "outputs": [
    {
     "data": {
      "text/plain": [
       "XGBClassifier(base_score=0.5, booster='gbtree', colsample_bylevel=1,\n",
       "       colsample_bytree=1, gamma=0, learning_rate=0.1, max_delta_step=0,\n",
       "       max_depth=3, min_child_weight=1, missing=None, n_estimators=100,\n",
       "       n_jobs=1, nthread=None, objective='binary:logistic', random_state=0,\n",
       "       reg_alpha=0, reg_lambda=1, scale_pos_weight=1, seed=None,\n",
       "       silent=True, subsample=1)"
      ]
     },
     "execution_count": 468,
     "metadata": {},
     "output_type": "execute_result"
    }
   ],
   "source": [
    "xgbClas.fit(X_train_aug,Y_train_new)"
   ]
  },
  {
   "cell_type": "code",
   "execution_count": 466,
   "metadata": {},
   "outputs": [],
   "source": [
    "def predict_test_proba():\n",
    "    X_test[\"rf_preds\"] = 0\n",
    "    X_test[\"et_preds\"] = 0\n",
    "    X_test[\"log_preds\"]=0\n",
    "    for index,clas in enumerate([best_rf,extr_tree,log_reg]):\n",
    "        clas.fit(X_train_new,Y_train_new)\n",
    "        res = clas.predict_proba(X_test.iloc[:,:-3])[:,1]\n",
    "        X_test.iloc[:,-(index+1)] = res"
   ]
  },
  {
   "cell_type": "code",
   "execution_count": 467,
   "metadata": {},
   "outputs": [],
   "source": [
    "predict_test_proba()"
   ]
  },
  {
   "cell_type": "code",
   "execution_count": 470,
   "metadata": {},
   "outputs": [],
   "source": [
    "vals = xgbClas.predict_proba(X_test)"
   ]
  },
  {
   "cell_type": "code",
   "execution_count": 474,
   "metadata": {},
   "outputs": [
    {
     "name": "stderr",
     "output_type": "stream",
     "text": [
      "/Users/mac/anaconda3/lib/python3.5/site-packages/ipykernel_launcher.py:2: SettingWithCopyWarning: \n",
      "A value is trying to be set on a copy of a slice from a DataFrame.\n",
      "Try using .loc[row_indexer,col_indexer] = value instead\n",
      "\n",
      "See the caveats in the documentation: http://pandas.pydata.org/pandas-docs/stable/indexing.html#indexing-view-versus-copy\n",
      "  \n"
     ]
    },
    {
     "data": {
      "text/html": [
       "<div>\n",
       "<style scoped>\n",
       "    .dataframe tbody tr th:only-of-type {\n",
       "        vertical-align: middle;\n",
       "    }\n",
       "\n",
       "    .dataframe tbody tr th {\n",
       "        vertical-align: top;\n",
       "    }\n",
       "\n",
       "    .dataframe thead th {\n",
       "        text-align: right;\n",
       "    }\n",
       "</style>\n",
       "<table border=\"1\" class=\"dataframe\">\n",
       "  <thead>\n",
       "    <tr style=\"text-align: right;\">\n",
       "      <th></th>\n",
       "      <th>_ID_</th>\n",
       "      <th>_VAL_</th>\n",
       "    </tr>\n",
       "  </thead>\n",
       "  <tbody>\n",
       "    <tr>\n",
       "      <th>0</th>\n",
       "      <td>0</td>\n",
       "      <td>0.153728</td>\n",
       "    </tr>\n",
       "    <tr>\n",
       "      <th>1</th>\n",
       "      <td>1</td>\n",
       "      <td>0.412388</td>\n",
       "    </tr>\n",
       "    <tr>\n",
       "      <th>2</th>\n",
       "      <td>2</td>\n",
       "      <td>0.275629</td>\n",
       "    </tr>\n",
       "    <tr>\n",
       "      <th>3</th>\n",
       "      <td>3</td>\n",
       "      <td>0.324806</td>\n",
       "    </tr>\n",
       "    <tr>\n",
       "      <th>4</th>\n",
       "      <td>4</td>\n",
       "      <td>0.653551</td>\n",
       "    </tr>\n",
       "    <tr>\n",
       "      <th>5</th>\n",
       "      <td>5</td>\n",
       "      <td>0.263956</td>\n",
       "    </tr>\n",
       "    <tr>\n",
       "      <th>6</th>\n",
       "      <td>6</td>\n",
       "      <td>0.076646</td>\n",
       "    </tr>\n",
       "    <tr>\n",
       "      <th>7</th>\n",
       "      <td>7</td>\n",
       "      <td>0.138943</td>\n",
       "    </tr>\n",
       "    <tr>\n",
       "      <th>8</th>\n",
       "      <td>8</td>\n",
       "      <td>0.096029</td>\n",
       "    </tr>\n",
       "    <tr>\n",
       "      <th>9</th>\n",
       "      <td>9</td>\n",
       "      <td>0.274639</td>\n",
       "    </tr>\n",
       "    <tr>\n",
       "      <th>10</th>\n",
       "      <td>10</td>\n",
       "      <td>0.090575</td>\n",
       "    </tr>\n",
       "    <tr>\n",
       "      <th>11</th>\n",
       "      <td>11</td>\n",
       "      <td>0.637042</td>\n",
       "    </tr>\n",
       "    <tr>\n",
       "      <th>12</th>\n",
       "      <td>12</td>\n",
       "      <td>0.043402</td>\n",
       "    </tr>\n",
       "    <tr>\n",
       "      <th>13</th>\n",
       "      <td>13</td>\n",
       "      <td>0.173785</td>\n",
       "    </tr>\n",
       "    <tr>\n",
       "      <th>14</th>\n",
       "      <td>14</td>\n",
       "      <td>0.544709</td>\n",
       "    </tr>\n",
       "    <tr>\n",
       "      <th>15</th>\n",
       "      <td>15</td>\n",
       "      <td>0.139942</td>\n",
       "    </tr>\n",
       "    <tr>\n",
       "      <th>16</th>\n",
       "      <td>16</td>\n",
       "      <td>0.042694</td>\n",
       "    </tr>\n",
       "    <tr>\n",
       "      <th>17</th>\n",
       "      <td>17</td>\n",
       "      <td>0.222365</td>\n",
       "    </tr>\n",
       "    <tr>\n",
       "      <th>18</th>\n",
       "      <td>18</td>\n",
       "      <td>0.301123</td>\n",
       "    </tr>\n",
       "    <tr>\n",
       "      <th>19</th>\n",
       "      <td>19</td>\n",
       "      <td>0.101049</td>\n",
       "    </tr>\n",
       "    <tr>\n",
       "      <th>20</th>\n",
       "      <td>20</td>\n",
       "      <td>0.036781</td>\n",
       "    </tr>\n",
       "    <tr>\n",
       "      <th>21</th>\n",
       "      <td>21</td>\n",
       "      <td>0.238374</td>\n",
       "    </tr>\n",
       "    <tr>\n",
       "      <th>22</th>\n",
       "      <td>22</td>\n",
       "      <td>0.131935</td>\n",
       "    </tr>\n",
       "    <tr>\n",
       "      <th>23</th>\n",
       "      <td>23</td>\n",
       "      <td>0.027443</td>\n",
       "    </tr>\n",
       "    <tr>\n",
       "      <th>24</th>\n",
       "      <td>24</td>\n",
       "      <td>0.470913</td>\n",
       "    </tr>\n",
       "    <tr>\n",
       "      <th>25</th>\n",
       "      <td>25</td>\n",
       "      <td>0.420480</td>\n",
       "    </tr>\n",
       "    <tr>\n",
       "      <th>26</th>\n",
       "      <td>26</td>\n",
       "      <td>0.504685</td>\n",
       "    </tr>\n",
       "    <tr>\n",
       "      <th>27</th>\n",
       "      <td>27</td>\n",
       "      <td>0.102877</td>\n",
       "    </tr>\n",
       "    <tr>\n",
       "      <th>28</th>\n",
       "      <td>28</td>\n",
       "      <td>0.071219</td>\n",
       "    </tr>\n",
       "    <tr>\n",
       "      <th>29</th>\n",
       "      <td>29</td>\n",
       "      <td>0.255502</td>\n",
       "    </tr>\n",
       "    <tr>\n",
       "      <th>...</th>\n",
       "      <td>...</td>\n",
       "      <td>...</td>\n",
       "    </tr>\n",
       "    <tr>\n",
       "      <th>4136</th>\n",
       "      <td>4136</td>\n",
       "      <td>0.069120</td>\n",
       "    </tr>\n",
       "    <tr>\n",
       "      <th>4137</th>\n",
       "      <td>4137</td>\n",
       "      <td>0.062341</td>\n",
       "    </tr>\n",
       "    <tr>\n",
       "      <th>4138</th>\n",
       "      <td>4138</td>\n",
       "      <td>0.096345</td>\n",
       "    </tr>\n",
       "    <tr>\n",
       "      <th>4139</th>\n",
       "      <td>4139</td>\n",
       "      <td>0.090284</td>\n",
       "    </tr>\n",
       "    <tr>\n",
       "      <th>4140</th>\n",
       "      <td>4140</td>\n",
       "      <td>0.132845</td>\n",
       "    </tr>\n",
       "    <tr>\n",
       "      <th>4141</th>\n",
       "      <td>4141</td>\n",
       "      <td>0.175560</td>\n",
       "    </tr>\n",
       "    <tr>\n",
       "      <th>4142</th>\n",
       "      <td>4142</td>\n",
       "      <td>0.078862</td>\n",
       "    </tr>\n",
       "    <tr>\n",
       "      <th>4143</th>\n",
       "      <td>4143</td>\n",
       "      <td>0.053049</td>\n",
       "    </tr>\n",
       "    <tr>\n",
       "      <th>4144</th>\n",
       "      <td>4144</td>\n",
       "      <td>0.085373</td>\n",
       "    </tr>\n",
       "    <tr>\n",
       "      <th>4145</th>\n",
       "      <td>4145</td>\n",
       "      <td>0.104363</td>\n",
       "    </tr>\n",
       "    <tr>\n",
       "      <th>4146</th>\n",
       "      <td>4146</td>\n",
       "      <td>0.039598</td>\n",
       "    </tr>\n",
       "    <tr>\n",
       "      <th>4147</th>\n",
       "      <td>4147</td>\n",
       "      <td>0.126716</td>\n",
       "    </tr>\n",
       "    <tr>\n",
       "      <th>4148</th>\n",
       "      <td>4148</td>\n",
       "      <td>0.092405</td>\n",
       "    </tr>\n",
       "    <tr>\n",
       "      <th>4149</th>\n",
       "      <td>4149</td>\n",
       "      <td>0.208570</td>\n",
       "    </tr>\n",
       "    <tr>\n",
       "      <th>4150</th>\n",
       "      <td>4150</td>\n",
       "      <td>0.137756</td>\n",
       "    </tr>\n",
       "    <tr>\n",
       "      <th>4151</th>\n",
       "      <td>4151</td>\n",
       "      <td>0.122261</td>\n",
       "    </tr>\n",
       "    <tr>\n",
       "      <th>4152</th>\n",
       "      <td>4152</td>\n",
       "      <td>0.133818</td>\n",
       "    </tr>\n",
       "    <tr>\n",
       "      <th>4153</th>\n",
       "      <td>4153</td>\n",
       "      <td>0.361998</td>\n",
       "    </tr>\n",
       "    <tr>\n",
       "      <th>4154</th>\n",
       "      <td>4154</td>\n",
       "      <td>0.323989</td>\n",
       "    </tr>\n",
       "    <tr>\n",
       "      <th>4155</th>\n",
       "      <td>4155</td>\n",
       "      <td>0.131308</td>\n",
       "    </tr>\n",
       "    <tr>\n",
       "      <th>4156</th>\n",
       "      <td>4156</td>\n",
       "      <td>0.557286</td>\n",
       "    </tr>\n",
       "    <tr>\n",
       "      <th>4157</th>\n",
       "      <td>4157</td>\n",
       "      <td>0.114279</td>\n",
       "    </tr>\n",
       "    <tr>\n",
       "      <th>4158</th>\n",
       "      <td>4158</td>\n",
       "      <td>0.180345</td>\n",
       "    </tr>\n",
       "    <tr>\n",
       "      <th>4159</th>\n",
       "      <td>4159</td>\n",
       "      <td>0.438559</td>\n",
       "    </tr>\n",
       "    <tr>\n",
       "      <th>4160</th>\n",
       "      <td>4160</td>\n",
       "      <td>0.031110</td>\n",
       "    </tr>\n",
       "    <tr>\n",
       "      <th>4161</th>\n",
       "      <td>4161</td>\n",
       "      <td>0.048585</td>\n",
       "    </tr>\n",
       "    <tr>\n",
       "      <th>4162</th>\n",
       "      <td>4162</td>\n",
       "      <td>0.120578</td>\n",
       "    </tr>\n",
       "    <tr>\n",
       "      <th>4163</th>\n",
       "      <td>4163</td>\n",
       "      <td>0.053147</td>\n",
       "    </tr>\n",
       "    <tr>\n",
       "      <th>4164</th>\n",
       "      <td>4164</td>\n",
       "      <td>0.122132</td>\n",
       "    </tr>\n",
       "    <tr>\n",
       "      <th>4165</th>\n",
       "      <td>4165</td>\n",
       "      <td>0.138389</td>\n",
       "    </tr>\n",
       "  </tbody>\n",
       "</table>\n",
       "<p>4166 rows × 2 columns</p>\n",
       "</div>"
      ],
      "text/plain": [
       "      _ID_     _VAL_\n",
       "0        0  0.153728\n",
       "1        1  0.412388\n",
       "2        2  0.275629\n",
       "3        3  0.324806\n",
       "4        4  0.653551\n",
       "5        5  0.263956\n",
       "6        6  0.076646\n",
       "7        7  0.138943\n",
       "8        8  0.096029\n",
       "9        9  0.274639\n",
       "10      10  0.090575\n",
       "11      11  0.637042\n",
       "12      12  0.043402\n",
       "13      13  0.173785\n",
       "14      14  0.544709\n",
       "15      15  0.139942\n",
       "16      16  0.042694\n",
       "17      17  0.222365\n",
       "18      18  0.301123\n",
       "19      19  0.101049\n",
       "20      20  0.036781\n",
       "21      21  0.238374\n",
       "22      22  0.131935\n",
       "23      23  0.027443\n",
       "24      24  0.470913\n",
       "25      25  0.420480\n",
       "26      26  0.504685\n",
       "27      27  0.102877\n",
       "28      28  0.071219\n",
       "29      29  0.255502\n",
       "...    ...       ...\n",
       "4136  4136  0.069120\n",
       "4137  4137  0.062341\n",
       "4138  4138  0.096345\n",
       "4139  4139  0.090284\n",
       "4140  4140  0.132845\n",
       "4141  4141  0.175560\n",
       "4142  4142  0.078862\n",
       "4143  4143  0.053049\n",
       "4144  4144  0.085373\n",
       "4145  4145  0.104363\n",
       "4146  4146  0.039598\n",
       "4147  4147  0.126716\n",
       "4148  4148  0.092405\n",
       "4149  4149  0.208570\n",
       "4150  4150  0.137756\n",
       "4151  4151  0.122261\n",
       "4152  4152  0.133818\n",
       "4153  4153  0.361998\n",
       "4154  4154  0.323989\n",
       "4155  4155  0.131308\n",
       "4156  4156  0.557286\n",
       "4157  4157  0.114279\n",
       "4158  4158  0.180345\n",
       "4159  4159  0.438559\n",
       "4160  4160  0.031110\n",
       "4161  4161  0.048585\n",
       "4162  4162  0.120578\n",
       "4163  4163  0.053147\n",
       "4164  4164  0.122132\n",
       "4165  4165  0.138389\n",
       "\n",
       "[4166 rows x 2 columns]"
      ]
     },
     "execution_count": 474,
     "metadata": {},
     "output_type": "execute_result"
    }
   ],
   "source": [
    "submit(vals)"
   ]
  },
  {
   "cell_type": "markdown",
   "metadata": {},
   "source": [
    "## Boosting tuning"
   ]
  },
  {
   "cell_type": "code",
   "execution_count": 187,
   "metadata": {},
   "outputs": [
    {
     "name": "stdout",
     "output_type": "stream",
     "text": [
      "Collecting bayesian-optimization\n",
      "  Downloading bayesian-optimization-0.6.0.tar.gz\n",
      "Requirement already satisfied: numpy>=1.9.0 in /Users/mac/anaconda3/lib/python3.5/site-packages (from bayesian-optimization)\n",
      "Requirement already satisfied: scipy>=0.14.0 in /Users/mac/anaconda3/lib/python3.5/site-packages (from bayesian-optimization)\n",
      "Requirement already satisfied: scikit-learn>=0.18.0 in /Users/mac/anaconda3/lib/python3.5/site-packages (from bayesian-optimization)\n",
      "Building wheels for collected packages: bayesian-optimization\n",
      "  Running setup.py bdist_wheel for bayesian-optimization ... \u001b[?25ldone\n",
      "\u001b[?25h  Stored in directory: /Users/mac/Library/Caches/pip/wheels/c5/92/8b/a2c219cb16b9a6271dd0e72b5c9e930c32dee10908870e5512\n",
      "Successfully built bayesian-optimization\n",
      "Installing collected packages: bayesian-optimization\n",
      "Successfully installed bayesian-optimization-0.6.0\n"
     ]
    }
   ],
   "source": [
    "!pip install bayesian-optimization"
   ]
  },
  {
   "cell_type": "markdown",
   "metadata": {},
   "source": [
    "Inspired by  __[this course material ](https://www.coursera.org/learn/bayesian-methods-in-machine-learning/lecture/iRLaF/bayesian-optimization)__ I decided to use bayesian optimization for my paramaters tuning"
   ]
  },
  {
   "cell_type": "code",
   "execution_count": 499,
   "metadata": {},
   "outputs": [],
   "source": [
    "def xgb_evaluate(min_child_weight, colsample_bytree, max_depth,\n",
    "                 subsample,\n",
    "                 gamma,\n",
    "                 alpha,\n",
    "                 n_estimators,\n",
    "                 learning_rate):\n",
    "    \n",
    " \n",
    "    '''According to the idea, this is our surrogate function which we will optimize '''\n",
    "\n",
    "    params['min_child_weight'] = int(min_child_weight)\n",
    "    params['cosample_bytree'] = max(min(colsample_bytree, 1), 0)\n",
    "    params['max_depth'] = int(max_depth)\n",
    "    params['subsample'] = max(min(subsample, 1), 0)\n",
    "    params['gamma'] = max(gamma, 0)\n",
    "    params['alpha'] = max(alpha, 0)\n",
    "    params[\"n_estimators\"] = int(n_estimators)\n",
    "    params[\"learning_rate\"] = max(learning_rate,0)\n",
    "\n",
    "\n",
    "    cv_result = xgb.cv(params, xgtrain, num_boost_round=num_rounds, nfold=5,\n",
    "             seed=random_state,\n",
    "             callbacks=[xgb.callback.early_stop(50)])\n",
    "\n",
    "    return cv_result['test-auc-mean'].values[-1]"
   ]
  },
  {
   "cell_type": "code",
   "execution_count": 500,
   "metadata": {
    "collapsed": true
   },
   "outputs": [],
   "source": [
    "from bayes_opt import BayesianOptimization"
   ]
  },
  {
   "cell_type": "code",
   "execution_count": 501,
   "metadata": {
    "collapsed": true
   },
   "outputs": [],
   "source": [
    "xgtrain = xgboost.DMatrix(X_train_aug,Y_train_new)"
   ]
  },
  {
   "cell_type": "code",
   "execution_count": 502,
   "metadata": {},
   "outputs": [],
   "source": [
    "num_rounds = 3000\n",
    "random_state = 2016\n",
    "num_iter = 25\n",
    "init_points = 10\n",
    "params = {\n",
    "    'eta': 0.1,\n",
    "    'silent': 1,\n",
    "    'eval_metric': 'auc',\n",
    "    'verbose_eval': True,\n",
    "    'seed': random_state\n",
    "}\n",
    "\n",
    "xgbBO = BayesianOptimization(xgb_evaluate, {'min_child_weight': (1, 20),\n",
    "                                            'colsample_bytree': (0.1, 1),\n",
    "                                            'max_depth': (3, 15),\n",
    "                                            'subsample': (0.5, 1),\n",
    "                                            'gamma': (0, 10),\n",
    "                                            'alpha': (0, 10),\n",
    "                                            \"n_estimators\":(50,1000),\n",
    "                                            \"learning_rate\":(0.01,0.1),\n",
    "                                            })"
   ]
  },
  {
   "cell_type": "code",
   "execution_count": null,
   "metadata": {},
   "outputs": [
    {
     "name": "stdout",
     "output_type": "stream",
     "text": [
      "\u001b[31mInitialization\u001b[0m\n",
      "\u001b[94m--------------------------------------------------------------------------------------------------------------------------------------------------------------\u001b[0m\n",
      " Step |   Time |      Value |     alpha |   colsample_bytree |     gamma |   learning_rate |   max_depth |   min_child_weight |   n_estimators |   subsample | \n",
      "Multiple eval metrics have been passed: 'test-auc' will be used for early stopping.\n",
      "\n",
      "Will train until test-auc hasn't improved in 50 rounds.\n",
      "Stopping. Best iteration:\n",
      "[268]\ttrain-auc:0.751394+0.00255534\ttest-auc:0.740383+0.00800751\n",
      "\n",
      "    1 | 15m18s | \u001b[35m   0.74038\u001b[0m | \u001b[32m   6.9163\u001b[0m | \u001b[32m            0.1734\u001b[0m | \u001b[32m   2.0084\u001b[0m | \u001b[32m         0.0626\u001b[0m | \u001b[32m     6.8430\u001b[0m | \u001b[32m            4.4632\u001b[0m | \u001b[32m      757.6568\u001b[0m | \u001b[32m     0.6534\u001b[0m | \n",
      "Multiple eval metrics have been passed: 'test-auc' will be used for early stopping.\n",
      "\n",
      "Will train until test-auc hasn't improved in 50 rounds.\n"
     ]
    }
   ],
   "source": [
    "xgbBO.maximize(init_points=init_points, n_iter=num_iter)"
   ]
  },
  {
   "cell_type": "markdown",
   "metadata": {},
   "source": [
    "Trying here RandomSearch"
   ]
  },
  {
   "cell_type": "code",
   "execution_count": 221,
   "metadata": {
    "collapsed": true
   },
   "outputs": [],
   "source": [
    "param_test1 = {\n",
    " 'max_depth':range(3,10,2),\n",
    " 'min_child_weight':range(1,6,2)\n",
    "}"
   ]
  },
  {
   "cell_type": "code",
   "execution_count": 223,
   "metadata": {
    "collapsed": true
   },
   "outputs": [],
   "source": [
    "myIterator=skf.split(X_train_new,Y_train_new)\n",
    "rand_search = RandomizedSearchCV(xgbClas,param_distributions=param_test1,scoring=\"roc_auc\",cv=myIterator,n_jobs=8,verbose=3)"
   ]
  },
  {
   "cell_type": "code",
   "execution_count": 224,
   "metadata": {
    "scrolled": true
   },
   "outputs": [
    {
     "name": "stdout",
     "output_type": "stream",
     "text": [
      "Fitting 8 folds for each of 10 candidates, totalling 80 fits\n",
      "[CV] max_depth=5, min_child_weight=1 .................................\n",
      "[CV] max_depth=5, min_child_weight=1 .................................\n",
      "[CV] max_depth=5, min_child_weight=1 .................................\n",
      "[CV] max_depth=5, min_child_weight=1 .................................\n",
      "[CV] max_depth=5, min_child_weight=1 .................................\n",
      "[CV] max_depth=5, min_child_weight=1 .................................\n",
      "[CV] max_depth=5, min_child_weight=1 .................................\n",
      "[CV] max_depth=5, min_child_weight=1 .................................\n",
      "[CV]  max_depth=5, min_child_weight=1, score=0.7357362634260631, total= 2.3min\n",
      "[CV] max_depth=7, min_child_weight=1 .................................\n",
      "[CV]  max_depth=5, min_child_weight=1, score=0.7393967622193053, total= 2.3min\n",
      "[CV] max_depth=7, min_child_weight=1 .................................\n",
      "[CV]  max_depth=5, min_child_weight=1, score=0.730051093139123, total= 2.3min\n",
      "[CV]  max_depth=5, min_child_weight=1, score=0.7398375934472814, total= 2.3min\n",
      "[CV] max_depth=7, min_child_weight=1 .................................\n",
      "[CV]  max_depth=5, min_child_weight=1, score=0.7478153684022337, total= 2.3min\n",
      "[CV]  max_depth=5, min_child_weight=1, score=0.7314363541554895, total= 2.3min\n",
      "[CV]  max_depth=5, min_child_weight=1, score=0.7363221061984553, total= 2.3min\n",
      "[CV] max_depth=7, min_child_weight=1 .................................\n",
      "[CV]  max_depth=5, min_child_weight=1, score=0.7325898163657941, total= 2.3min\n",
      "[CV] max_depth=7, min_child_weight=1 .................................\n",
      "[CV] max_depth=7, min_child_weight=1 .................................\n",
      "[CV] max_depth=7, min_child_weight=1 .................................\n",
      "[CV] max_depth=7, min_child_weight=1 .................................\n",
      "[CV]  max_depth=7, min_child_weight=1, score=0.7347884998094592, total= 2.9min\n",
      "[CV] max_depth=3, min_child_weight=1 .................................\n",
      "[CV]  max_depth=7, min_child_weight=1, score=0.7412151322258448, total= 2.9min\n",
      "[CV] max_depth=3, min_child_weight=1 .................................\n",
      "[CV]  max_depth=7, min_child_weight=1, score=0.73959012575687, total= 2.9min\n",
      "[CV] max_depth=3, min_child_weight=1 .................................\n",
      "[CV]  max_depth=7, min_child_weight=1, score=0.7291230893000804, total= 2.9min\n",
      "[CV]  max_depth=7, min_child_weight=1, score=0.7314652973477682, total= 2.9min\n",
      "[CV] max_depth=3, min_child_weight=1 .................................\n",
      "[CV]  max_depth=7, min_child_weight=1, score=0.7442628426792376, total= 2.9min\n",
      "[CV]  max_depth=7, min_child_weight=1, score=0.7330776449371532, total= 2.9min\n",
      "[CV] max_depth=3, min_child_weight=1 .................................\n",
      "[CV]  max_depth=7, min_child_weight=1, score=0.7272733699765945, total= 2.9min\n"
     ]
    },
    {
     "name": "stderr",
     "output_type": "stream",
     "text": [
      "[Parallel(n_jobs=8)]: Done  16 tasks      | elapsed:  5.4min\n"
     ]
    },
    {
     "name": "stdout",
     "output_type": "stream",
     "text": [
      "[CV] max_depth=3, min_child_weight=1 .................................\n",
      "[CV] max_depth=3, min_child_weight=1 .................................\n",
      "[CV] max_depth=3, min_child_weight=1 .................................\n",
      "[CV]  max_depth=3, min_child_weight=1, score=0.737274232779589, total= 1.3min\n",
      "[CV] max_depth=7, min_child_weight=3 .................................\n",
      "[CV]  max_depth=3, min_child_weight=1, score=0.739025090212794, total= 1.3min\n",
      "[CV]  max_depth=3, min_child_weight=1, score=0.7326073967434005, total= 1.3min\n",
      "[CV] max_depth=7, min_child_weight=3 .................................\n",
      "[CV] max_depth=7, min_child_weight=3 .................................\n",
      "[CV]  max_depth=3, min_child_weight=1, score=0.7397893701806137, total= 1.3min\n",
      "[CV] max_depth=7, min_child_weight=3 .................................\n",
      "[CV]  max_depth=3, min_child_weight=1, score=0.7333837839058909, total= 1.3min\n",
      "[CV]  max_depth=3, min_child_weight=1, score=0.7506372528263539, total= 1.3min\n",
      "[CV] max_depth=7, min_child_weight=3 .................................\n",
      "[CV]  max_depth=3, min_child_weight=1, score=0.7401004869986239, total= 1.3min\n",
      "[CV] max_depth=7, min_child_weight=3 .................................\n",
      "[CV] max_depth=7, min_child_weight=3 .................................\n",
      "[CV]  max_depth=3, min_child_weight=1, score=0.7374158582808836, total= 1.3min\n",
      "[CV] max_depth=7, min_child_weight=3 .................................\n",
      "[CV]  max_depth=7, min_child_weight=3, score=0.7342662771167663, total= 3.4min\n",
      "[CV] max_depth=5, min_child_weight=5 .................................\n",
      "[CV]  max_depth=7, min_child_weight=3, score=0.7377124764176465, total= 3.5min\n",
      "[CV]  max_depth=7, min_child_weight=3, score=0.7395054409958928, total= 3.5min\n",
      "[CV] max_depth=5, min_child_weight=5 .................................\n",
      "[CV]  max_depth=7, min_child_weight=3, score=0.7361350343459214, total= 3.4min\n",
      "[CV] max_depth=5, min_child_weight=5 .................................\n",
      "[CV]  max_depth=7, min_child_weight=3, score=0.740672679284696, total= 3.4min\n",
      "[CV] max_depth=5, min_child_weight=5 .................................\n",
      "[CV]  max_depth=7, min_child_weight=3, score=0.7304824053628205, total= 3.4min\n",
      "[CV] max_depth=5, min_child_weight=5 .................................\n",
      "[CV]  max_depth=7, min_child_weight=3, score=0.7485434221111911, total= 3.5min\n",
      "[CV] max_depth=5, min_child_weight=5 .................................\n",
      "[CV] max_depth=5, min_child_weight=5 .................................\n",
      "[CV]  max_depth=7, min_child_weight=3, score=0.7296455042564564, total= 3.5min\n",
      "[CV] max_depth=5, min_child_weight=5 .................................\n",
      "[CV]  max_depth=5, min_child_weight=5, score=0.7390460261675912, total= 1.9min\n",
      "[CV] max_depth=9, min_child_weight=3 .................................\n",
      "[CV]  max_depth=5, min_child_weight=5, score=0.737816920956185, total= 1.9min\n",
      "[CV] max_depth=9, min_child_weight=3 .................................\n",
      "[CV]  max_depth=5, min_child_weight=5, score=0.7309993272266212, total= 1.9min\n",
      "[CV]  max_depth=5, min_child_weight=5, score=0.7409290859220994, total= 1.9min\n",
      "[CV]  max_depth=5, min_child_weight=5, score=0.7500049399443904, total= 1.9min\n",
      "[CV] max_depth=9, min_child_weight=3 .................................\n",
      "[CV] max_depth=9, min_child_weight=3 .................................\n",
      "[CV]  max_depth=5, min_child_weight=5, score=0.7365174139187106, total= 1.9min\n",
      "[CV]  max_depth=5, min_child_weight=5, score=0.7345109212312199, total= 1.9min\n",
      "[CV] max_depth=9, min_child_weight=3 .................................\n",
      "[CV] max_depth=9, min_child_weight=3 .................................\n",
      "[CV] max_depth=9, min_child_weight=3 .................................\n",
      "[CV]  max_depth=5, min_child_weight=5, score=0.7313639230095611, total= 1.9min\n",
      "[CV] max_depth=9, min_child_weight=3 .................................\n",
      "[CV]  max_depth=9, min_child_weight=3, score=0.7287434192883657, total= 3.9min\n",
      "[CV] max_depth=9, min_child_weight=5 .................................\n",
      "[CV]  max_depth=9, min_child_weight=3, score=0.7370161794940556, total= 3.9min\n",
      "[CV] max_depth=9, min_child_weight=5 .................................\n",
      "[CV]  max_depth=9, min_child_weight=3, score=0.7354483982884454, total= 3.9min\n",
      "[CV] max_depth=9, min_child_weight=5 .................................\n",
      "[CV]  max_depth=9, min_child_weight=3, score=0.7296390525081277, total= 3.9min\n",
      "[CV]  max_depth=9, min_child_weight=3, score=0.735536548531425, total= 3.9min\n",
      "[CV] max_depth=9, min_child_weight=5 .................................\n",
      "[CV]  max_depth=9, min_child_weight=3, score=0.7332749949424378, total= 3.9min\n",
      "[CV]  max_depth=9, min_child_weight=3, score=0.7362050876722511, total= 3.9min\n",
      "[CV] max_depth=9, min_child_weight=5 .................................\n",
      "[CV] max_depth=9, min_child_weight=5 .................................\n",
      "[CV] max_depth=9, min_child_weight=5 .................................\n",
      "[CV]  max_depth=9, min_child_weight=3, score=0.7268609683284961, total= 3.9min\n",
      "[CV] max_depth=9, min_child_weight=5 .................................\n",
      "[CV]  max_depth=9, min_child_weight=5, score=0.7322126716630676, total= 3.7min\n",
      "[CV] max_depth=9, min_child_weight=1 .................................\n",
      "[CV]  max_depth=9, min_child_weight=5, score=0.7252247674697605, total= 3.6min\n",
      "[CV]  max_depth=9, min_child_weight=5, score=0.7282140120817827, total= 3.6min\n",
      "[CV] max_depth=9, min_child_weight=1 .................................\n",
      "[CV]  max_depth=9, min_child_weight=5, score=0.7336650153138276, total= 3.7min\n",
      "[CV] max_depth=9, min_child_weight=1 .................................\n",
      "[CV] max_depth=9, min_child_weight=1 .................................\n",
      "[CV]  max_depth=9, min_child_weight=5, score=0.7409253221549449, total= 3.7min\n",
      "[CV] max_depth=9, min_child_weight=1 .................................\n",
      "[CV]  max_depth=9, min_child_weight=5, score=0.7370621577408685, total= 3.7min\n",
      "[CV] max_depth=9, min_child_weight=1 .................................\n",
      "[CV]  max_depth=9, min_child_weight=5, score=0.7325758751934811, total= 3.7min\n",
      "[CV] max_depth=9, min_child_weight=1 .................................\n",
      "[CV]  max_depth=9, min_child_weight=5, score=0.7286392442350962, total= 3.7min\n",
      "[CV] max_depth=9, min_child_weight=1 .................................\n",
      "[CV]  max_depth=9, min_child_weight=1, score=0.7348336650153138, total= 3.7min\n",
      "[CV] max_depth=7, min_child_weight=5 .................................\n",
      "[CV]  max_depth=9, min_child_weight=1, score=0.7375379317158545, total= 3.7min\n",
      "[CV] max_depth=7, min_child_weight=5 .................................\n",
      "[CV]  max_depth=9, min_child_weight=1, score=0.7369247364051709, total= 3.7min\n",
      "[CV]  max_depth=9, min_child_weight=1, score=0.7292164348387559, total= 3.7min\n",
      "[CV]  max_depth=9, min_child_weight=1, score=0.7344356466387207, total= 3.8min\n",
      "[CV] max_depth=7, min_child_weight=5 .................................\n",
      "[CV] max_depth=7, min_child_weight=5 .................................\n",
      "[CV] max_depth=7, min_child_weight=5 .................................\n",
      "[CV]  max_depth=9, min_child_weight=1, score=0.7295185200867549, total= 3.8min\n",
      "[CV] max_depth=7, min_child_weight=5 .................................\n",
      "[CV]  max_depth=9, min_child_weight=1, score=0.7366158087629909, total= 3.8min\n",
      "[CV] max_depth=7, min_child_weight=5 .................................\n",
      "[CV]  max_depth=9, min_child_weight=1, score=0.721471939249231, total= 3.7min\n",
      "[CV] max_depth=7, min_child_weight=5 .................................\n",
      "[CV]  max_depth=7, min_child_weight=5, score=0.7336480783616321, total= 2.5min\n",
      "[CV] max_depth=3, min_child_weight=5 .................................\n",
      "[CV]  max_depth=7, min_child_weight=5, score=0.7311828108754053, total= 2.5min\n",
      "[CV]  max_depth=7, min_child_weight=5, score=0.737677661571467, total= 2.5min\n",
      "[CV]  max_depth=7, min_child_weight=5, score=0.7367117848254318, total= 2.5min\n",
      "[CV] max_depth=3, min_child_weight=5 .................................\n",
      "[CV]  max_depth=7, min_child_weight=5, score=0.7475876604893839, total= 2.5min\n",
      "[CV] max_depth=3, min_child_weight=5 .................................\n",
      "[CV] max_depth=3, min_child_weight=5 .................................\n",
      "[CV]  max_depth=7, min_child_weight=5, score=0.7301416757496523, total= 2.5min\n",
      "[CV] max_depth=3, min_child_weight=5 .................................\n"
     ]
    },
    {
     "name": "stdout",
     "output_type": "stream",
     "text": [
      "[CV] max_depth=3, min_child_weight=5 .................................\n",
      "[CV]  max_depth=7, min_child_weight=5, score=0.7334124917876633, total= 2.5min\n",
      "[CV] max_depth=3, min_child_weight=5 .................................\n",
      "[CV]  max_depth=7, min_child_weight=5, score=0.726888775982482, total= 2.5min\n",
      "[CV] max_depth=3, min_child_weight=5 .................................\n",
      "[CV]  max_depth=3, min_child_weight=5, score=0.7388973573649866, total= 1.1min\n",
      "[CV]  max_depth=3, min_child_weight=5, score=0.7394407512479241, total= 1.1min\n",
      "[CV]  max_depth=3, min_child_weight=5, score=0.731445804105329, total= 1.1min\n",
      "[CV]  max_depth=3, min_child_weight=5, score=0.7406096361848574, total= 1.1min\n",
      "[CV]  max_depth=3, min_child_weight=5, score=0.7331849465280406, total= 1.1min\n",
      "[CV]  max_depth=3, min_child_weight=5, score=0.7507050006351357, total= 1.1min\n",
      "[CV]  max_depth=3, min_child_weight=5, score=0.7406344065374906, total= 1.1min\n",
      "[CV]  max_depth=3, min_child_weight=5, score=0.7357162921745491, total= 1.1min\n"
     ]
    },
    {
     "name": "stderr",
     "output_type": "stream",
     "text": [
      "[Parallel(n_jobs=8)]: Done  80 out of  80 | elapsed: 27.4min finished\n"
     ]
    },
    {
     "data": {
      "text/plain": [
       "RandomizedSearchCV(cv=<generator object _BaseKFold.split at 0x116281f10>,\n",
       "          error_score='raise',\n",
       "          estimator=XGBClassifier(base_score=0.5, booster='gbtree', colsample_bylevel=1,\n",
       "       colsample_bytree=1, gamma=0, learning_rate=0.1, max_delta_step=0,\n",
       "       max_depth=3, min_child_weight=1, missing=None, n_estimators=100,\n",
       "       n_jobs=1, nthread=None, objective='binary:logistic', random_state=0,\n",
       "       reg_alpha=0, reg_lambda=1, scale_pos_weight=1, seed=None,\n",
       "       silent=True, subsample=1),\n",
       "          fit_params=None, iid=True, n_iter=10, n_jobs=8,\n",
       "          param_distributions={'max_depth': range(3, 10, 2), 'min_child_weight': range(1, 6, 2)},\n",
       "          pre_dispatch='2*n_jobs', random_state=None, refit=True,\n",
       "          return_train_score='warn', scoring='roc_auc', verbose=3)"
      ]
     },
     "execution_count": 224,
     "metadata": {},
     "output_type": "execute_result"
    }
   ],
   "source": [
    "rand_search.fit(X_train_new,Y_train_new)"
   ]
  },
  {
   "cell_type": "code",
   "execution_count": 228,
   "metadata": {},
   "outputs": [],
   "source": [
    "params_1=rand_search.best_params_"
   ]
  },
  {
   "cell_type": "code",
   "execution_count": 230,
   "metadata": {},
   "outputs": [],
   "source": [
    "param_test2 = {\n",
    "    'max_depth':[2,3],\n",
    "    'min_child_weight':range(6,10,2)\n",
    "}"
   ]
  },
  {
   "cell_type": "code",
   "execution_count": 231,
   "metadata": {
    "collapsed": true
   },
   "outputs": [],
   "source": [
    "myIterator=skf.split(X_train_new,Y_train_new)\n",
    "rand_search = GridSearchCV(xgbClas,param_grid=param_test2,scoring=\"roc_auc\",cv=myIterator,n_jobs=8,verbose=3)"
   ]
  },
  {
   "cell_type": "code",
   "execution_count": 233,
   "metadata": {
    "scrolled": false
   },
   "outputs": [
    {
     "name": "stdout",
     "output_type": "stream",
     "text": [
      "Fitting 8 folds for each of 4 candidates, totalling 32 fits\n",
      "[CV] max_depth=2, min_child_weight=6 .................................\n",
      "[CV] max_depth=2, min_child_weight=6 .................................\n",
      "[CV] max_depth=2, min_child_weight=6 .................................\n",
      "[CV] max_depth=2, min_child_weight=6 .................................\n",
      "[CV] max_depth=2, min_child_weight=6 .................................\n",
      "[CV] max_depth=2, min_child_weight=6 .................................\n",
      "[CV] max_depth=2, min_child_weight=6 .................................\n",
      "[CV] max_depth=2, min_child_weight=6 .................................\n",
      "[CV]  max_depth=2, min_child_weight=6, score=0.7363558735938801, total= 1.1min\n",
      "[CV]  max_depth=2, min_child_weight=6, score=0.7423739020385504, total= 1.1min\n",
      "[CV] max_depth=2, min_child_weight=8 .................................\n",
      "[CV]  max_depth=2, min_child_weight=6, score=0.7303425498581531, total= 1.1min\n",
      "[CV]  max_depth=2, min_child_weight=6, score=0.7394595700836968, total= 1.1min\n",
      "[CV] max_depth=2, min_child_weight=8 .................................\n",
      "[CV] max_depth=2, min_child_weight=8 .................................\n",
      "[CV] max_depth=2, min_child_weight=8 .................................\n",
      "[CV]  max_depth=2, min_child_weight=6, score=0.749439669164867, total= 1.1min\n",
      "[CV]  max_depth=2, min_child_weight=6, score=0.7329649312046204, total= 1.1min\n",
      "[CV]  max_depth=2, min_child_weight=6, score=0.7405092213481222, total= 1.1min\n",
      "[CV] max_depth=2, min_child_weight=8 .................................\n",
      "[CV] max_depth=2, min_child_weight=8 .................................\n",
      "[CV]  max_depth=2, min_child_weight=6, score=0.7358755970397574, total= 1.1min\n",
      "[CV] max_depth=2, min_child_weight=8 .................................\n",
      "[CV] max_depth=2, min_child_weight=8 .................................\n",
      "[CV]  max_depth=2, min_child_weight=8, score=0.7362540166452602, total= 1.1min\n",
      "[CV] max_depth=3, min_child_weight=6 .................................\n",
      "[CV]  max_depth=2, min_child_weight=8, score=0.7414320193081255, total= 1.1min\n",
      "[CV]  max_depth=2, min_child_weight=8, score=0.7306257733365324, total= 1.1min\n",
      "[CV]  max_depth=2, min_child_weight=8, score=0.7378670261064298, total= 1.1min\n",
      "[CV] max_depth=3, min_child_weight=6 .................................\n",
      "[CV] max_depth=3, min_child_weight=6 .................................\n",
      "[CV]  max_depth=2, min_child_weight=8, score=0.7504234238048864, total= 1.1min\n",
      "[CV]  max_depth=2, min_child_weight=8, score=0.7337802821090598, total= 1.1min\n",
      "[CV] max_depth=3, min_child_weight=6 .................................\n",
      "[CV] max_depth=3, min_child_weight=6 .................................\n",
      "[CV]  max_depth=2, min_child_weight=8, score=0.7402569684853344, total= 1.1min\n",
      "[CV] max_depth=3, min_child_weight=6 .................................\n",
      "[CV]  max_depth=2, min_child_weight=8, score=0.7349892869834728, total= 1.1min\n",
      "[CV] max_depth=3, min_child_weight=6 .................................\n"
     ]
    },
    {
     "name": "stderr",
     "output_type": "stream",
     "text": [
      "[Parallel(n_jobs=8)]: Done  16 tasks      | elapsed:  2.4min\n"
     ]
    },
    {
     "name": "stdout",
     "output_type": "stream",
     "text": [
      "[CV] max_depth=3, min_child_weight=6 .................................\n",
      "[CV]  max_depth=3, min_child_weight=6, score=0.7378117457763476, total= 1.4min\n",
      "[CV] max_depth=3, min_child_weight=8 .................................\n",
      "[CV]  max_depth=3, min_child_weight=6, score=0.7325843436695788, total= 1.4min\n",
      "[CV] max_depth=3, min_child_weight=8 .................................\n",
      "[CV]  max_depth=3, min_child_weight=6, score=0.7402607820167206, total= 1.4min\n",
      "[CV] max_depth=3, min_child_weight=8 .................................\n",
      "[CV]  max_depth=3, min_child_weight=6, score=0.7392742045513354, total= 1.4min\n",
      "[CV] max_depth=3, min_child_weight=8 .................................\n",
      "[CV]  max_depth=3, min_child_weight=6, score=0.7391135947350685, total= 1.4min\n",
      "[CV] max_depth=3, min_child_weight=8 .................................\n",
      "[CV]  max_depth=3, min_child_weight=6, score=0.7511999360159584, total= 1.4min\n",
      "[CV]  max_depth=3, min_child_weight=6, score=0.7333623706498147, total= 1.5min\n",
      "[CV] max_depth=3, min_child_weight=8 .................................\n",
      "[CV] max_depth=3, min_child_weight=8 .................................\n",
      "[CV]  max_depth=3, min_child_weight=6, score=0.7363766061276757, total= 1.5min\n",
      "[CV] max_depth=3, min_child_weight=8 .................................\n",
      "[CV]  max_depth=3, min_child_weight=8, score=0.7362222598598938, total= 1.3min\n",
      "[CV]  max_depth=3, min_child_weight=8, score=0.7403875739227394, total= 1.3min\n",
      "[CV]  max_depth=3, min_child_weight=8, score=0.7397096253640268, total= 1.3min\n",
      "[CV]  max_depth=3, min_child_weight=8, score=0.7313949932487427, total= 1.3min\n",
      "[CV]  max_depth=3, min_child_weight=8, score=0.7519002319421509, total= 1.3min\n"
     ]
    },
    {
     "name": "stderr",
     "output_type": "stream",
     "text": [
      "[Parallel(n_jobs=8)]: Done  28 out of  32 | elapsed:  5.1min remaining:   44.0s\n"
     ]
    },
    {
     "name": "stdout",
     "output_type": "stream",
     "text": [
      "[CV]  max_depth=3, min_child_weight=8, score=0.7327828008727197, total= 1.3min\n",
      "[CV]  max_depth=3, min_child_weight=8, score=0.7354042808705021, total= 1.3min\n",
      "[CV]  max_depth=3, min_child_weight=8, score=0.7407963001658469, total= 1.3min\n"
     ]
    },
    {
     "name": "stderr",
     "output_type": "stream",
     "text": [
      "[Parallel(n_jobs=8)]: Done  32 out of  32 | elapsed:  5.2min finished\n"
     ]
    },
    {
     "data": {
      "text/plain": [
       "GridSearchCV(cv=<generator object _BaseKFold.split at 0x1174221a8>,\n",
       "       error_score='raise',\n",
       "       estimator=XGBClassifier(base_score=0.5, booster='gbtree', colsample_bylevel=1,\n",
       "       colsample_bytree=1, gamma=0, learning_rate=0.1, max_delta_step=0,\n",
       "       max_depth=3, min_child_weight=1, missing=None, n_estimators=100,\n",
       "       n_jobs=1, nthread=None, objective='binary:logistic', random_state=0,\n",
       "       reg_alpha=0, reg_lambda=1, scale_pos_weight=1, seed=None,\n",
       "       silent=True, subsample=1),\n",
       "       fit_params=None, iid=True, n_jobs=8,\n",
       "       param_grid={'max_depth': [2, 3], 'min_child_weight': range(6, 10, 2)},\n",
       "       pre_dispatch='2*n_jobs', refit=True, return_train_score='warn',\n",
       "       scoring='roc_auc', verbose=3)"
      ]
     },
     "execution_count": 233,
     "metadata": {},
     "output_type": "execute_result"
    }
   ],
   "source": [
    "rand_search.fit(X_train_new,Y_train_new)"
   ]
  },
  {
   "cell_type": "code",
   "execution_count": 237,
   "metadata": {},
   "outputs": [
    {
     "data": {
      "text/plain": [
       "{'max_depth': 3, 'min_child_weight': 6}"
      ]
     },
     "execution_count": 237,
     "metadata": {},
     "output_type": "execute_result"
    }
   ],
   "source": [
    "rand_search.best_params_"
   ]
  },
  {
   "cell_type": "code",
   "execution_count": 241,
   "metadata": {
    "collapsed": true
   },
   "outputs": [],
   "source": [
    "clas_new = xgboost.XGBClassifier(**rand_search.best_params_)"
   ]
  },
  {
   "cell_type": "code",
   "execution_count": 245,
   "metadata": {},
   "outputs": [],
   "source": [
    "param_test3 = {\n",
    "    \"learning_rate\":[0.05,0.08,0.01,0.15]\n",
    "}"
   ]
  },
  {
   "cell_type": "code",
   "execution_count": 247,
   "metadata": {
    "collapsed": true
   },
   "outputs": [],
   "source": [
    "myIterator=skf.split(X_train_new,Y_train_new)\n",
    "rand_search = GridSearchCV(clas_new,param_grid=param_test3,scoring=\"roc_auc\",cv=3,n_jobs=-1,verbose=3)"
   ]
  },
  {
   "cell_type": "code",
   "execution_count": 248,
   "metadata": {},
   "outputs": [
    {
     "name": "stdout",
     "output_type": "stream",
     "text": [
      "Fitting 3 folds for each of 4 candidates, totalling 12 fits\n",
      "[CV] learning_rate=0.05 ..............................................\n",
      "[CV] learning_rate=0.05 ..............................................\n",
      "[CV] learning_rate=0.05 ..............................................\n",
      "[CV] learning_rate=0.08 ..............................................\n",
      "[CV] ..... learning_rate=0.05, score=0.7353774930735459, total=  32.0s\n",
      "[CV] learning_rate=0.08 ..............................................\n",
      "[CV] ..... learning_rate=0.05, score=0.7425282232493831, total=  32.0s\n",
      "[CV] learning_rate=0.08 ..............................................\n",
      "[CV] ..... learning_rate=0.05, score=0.7370605783770933, total=  32.6s\n",
      "[CV] learning_rate=0.01 ..............................................\n",
      "[CV] ..... learning_rate=0.08, score=0.7344899832409982, total=  32.7s\n",
      "[CV] learning_rate=0.01 ..............................................\n",
      "[CV] ..... learning_rate=0.08, score=0.7426896067192693, total=  35.2s\n",
      "[CV] learning_rate=0.01 ..............................................\n",
      "[CV] ..... learning_rate=0.08, score=0.7366213777117115, total=  35.4s\n",
      "[CV] learning_rate=0.15 ..............................................\n",
      "[CV] ..... learning_rate=0.01, score=0.7300427073992632, total=  35.6s\n",
      "[CV] learning_rate=0.15 ..............................................\n",
      "[CV] ...... learning_rate=0.01, score=0.737200120531418, total=  35.1s\n",
      "[CV] learning_rate=0.15 ..............................................\n",
      "[CV] ...... learning_rate=0.01, score=0.732815280899412, total=  36.5s\n",
      "[CV] ..... learning_rate=0.15, score=0.7325397841021335, total=  36.5s\n"
     ]
    },
    {
     "name": "stderr",
     "output_type": "stream",
     "text": [
      "[Parallel(n_jobs=-1)]: Done  10 out of  12 | elapsed:  1.8min remaining:   21.5s\n"
     ]
    },
    {
     "name": "stdout",
     "output_type": "stream",
     "text": [
      "[CV] ..... learning_rate=0.15, score=0.7357492989108764, total=  35.7s\n",
      "[CV] ..... learning_rate=0.15, score=0.7406190812827466, total=  36.4s\n"
     ]
    },
    {
     "name": "stderr",
     "output_type": "stream",
     "text": [
      "[Parallel(n_jobs=-1)]: Done  12 out of  12 | elapsed:  1.8min finished\n"
     ]
    },
    {
     "data": {
      "text/plain": [
       "GridSearchCV(cv=3, error_score='raise',\n",
       "       estimator=XGBClassifier(base_score=0.5, booster='gbtree', colsample_bylevel=1,\n",
       "       colsample_bytree=1, gamma=0, learning_rate=0.1, max_delta_step=0,\n",
       "       max_depth=3, min_child_weight=6, missing=None, n_estimators=100,\n",
       "       n_jobs=1, nthread=None, objective='binary:logistic', random_state=0,\n",
       "       reg_alpha=0, reg_lambda=1, scale_pos_weight=1, seed=None,\n",
       "       silent=True, subsample=1),\n",
       "       fit_params=None, iid=True, n_jobs=-1,\n",
       "       param_grid={'learning_rate': [0.05, 0.08, 0.01, 0.15]},\n",
       "       pre_dispatch='2*n_jobs', refit=True, return_train_score='warn',\n",
       "       scoring='roc_auc', verbose=3)"
      ]
     },
     "execution_count": 248,
     "metadata": {},
     "output_type": "execute_result"
    }
   ],
   "source": [
    "rand_search.fit(X_train_new,Y_train_new)"
   ]
  },
  {
   "cell_type": "code",
   "execution_count": 250,
   "metadata": {},
   "outputs": [
    {
     "data": {
      "text/plain": [
       "{'learning_rate': 0.05}"
      ]
     },
     "execution_count": 250,
     "metadata": {},
     "output_type": "execute_result"
    }
   ],
   "source": [
    "rand_search.best_params_"
   ]
  },
  {
   "cell_type": "code",
   "execution_count": 251,
   "metadata": {
    "collapsed": true
   },
   "outputs": [],
   "source": [
    "param_test4 = {\n",
    "    \"n_estimators\":list(range(50,400,80))\n",
    "}\n",
    "\n",
    "myIterator=skf.split(X_train_new,Y_train_new)\n",
    "rand_search = GridSearchCV(xgboost.XGBClassifier(learning_rate=0.05,max_depth=3,min_child_weight=6),param_grid=param_test4,scoring=\"roc_auc\",cv=3,n_jobs=8,verbose=3)"
   ]
  },
  {
   "cell_type": "code",
   "execution_count": 252,
   "metadata": {},
   "outputs": [
    {
     "name": "stdout",
     "output_type": "stream",
     "text": [
      "Fitting 3 folds for each of 5 candidates, totalling 15 fits\n",
      "[CV] n_estimators=50 .................................................\n",
      "[CV] n_estimators=50 .................................................\n",
      "[CV] n_estimators=50 .................................................\n",
      "[CV] n_estimators=130 ................................................\n",
      "[CV] n_estimators=130 ................................................\n",
      "[CV] n_estimators=130 ................................................\n",
      "[CV] n_estimators=210 ................................................\n",
      "[CV] n_estimators=210 ................................................\n",
      "[CV] ........ n_estimators=50, score=0.7338011093972159, total=  34.3s\n",
      "[CV] n_estimators=210 ................................................\n",
      "[CV] ........ n_estimators=50, score=0.7407672642597084, total=  34.5s\n",
      "[CV] n_estimators=290 ................................................\n",
      "[CV] ........ n_estimators=50, score=0.7347210105878874, total=  35.1s\n",
      "[CV] n_estimators=290 ................................................\n",
      "[CV] ....... n_estimators=130, score=0.7347674251800032, total= 1.5min\n",
      "[CV] n_estimators=290 ................................................\n",
      "[CV] ....... n_estimators=130, score=0.7424029674443422, total= 1.5min\n",
      "[CV] n_estimators=370 ................................................\n",
      "[CV] ......... n_estimators=130, score=0.73759289567435, total= 1.5min\n"
     ]
    },
    {
     "name": "stderr",
     "output_type": "stream",
     "text": [
      "[Parallel(n_jobs=8)]: Done   6 out of  15 | elapsed:  1.6min remaining:  2.4min\n"
     ]
    },
    {
     "name": "stdout",
     "output_type": "stream",
     "text": [
      "[CV] n_estimators=370 ................................................\n",
      "[CV] ....... n_estimators=210, score=0.7339608055860517, total= 2.3min\n",
      "[CV] n_estimators=370 ................................................\n",
      "[CV] ....... n_estimators=210, score=0.7420267699379716, total= 2.4min\n",
      "[CV] ....... n_estimators=210, score=0.7375583700266268, total= 2.3min\n",
      "[CV] ....... n_estimators=290, score=0.7338337301641915, total= 2.9min\n",
      "[CV] ....... n_estimators=290, score=0.7427756580528433, total= 2.9min\n",
      "[CV] ....... n_estimators=290, score=0.7366921503242068, total= 2.5min\n"
     ]
    },
    {
     "name": "stderr",
     "output_type": "stream",
     "text": [
      "[Parallel(n_jobs=8)]: Done  12 out of  15 | elapsed:  4.1min remaining:  1.0min\n"
     ]
    },
    {
     "name": "stdout",
     "output_type": "stream",
     "text": [
      "[CV] ........ n_estimators=370, score=0.733242222362204, total= 2.8min\n",
      "[CV] ....... n_estimators=370, score=0.7428755715581848, total= 2.8min\n",
      "[CV] ....... n_estimators=370, score=0.7364657309278236, total= 2.3min\n"
     ]
    },
    {
     "name": "stderr",
     "output_type": "stream",
     "text": [
      "[Parallel(n_jobs=8)]: Done  15 out of  15 | elapsed:  4.7min finished\n"
     ]
    },
    {
     "data": {
      "text/plain": [
       "GridSearchCV(cv=3, error_score='raise',\n",
       "       estimator=XGBClassifier(base_score=0.5, booster='gbtree', colsample_bylevel=1,\n",
       "       colsample_bytree=1, gamma=0, learning_rate=0.05, max_delta_step=0,\n",
       "       max_depth=3, min_child_weight=6, missing=None, n_estimators=100,\n",
       "       n_jobs=1, nthread=None, objective='binary:logistic', random_state=0,\n",
       "       reg_alpha=0, reg_lambda=1, scale_pos_weight=1, seed=None,\n",
       "       silent=True, subsample=1),\n",
       "       fit_params=None, iid=True, n_jobs=8,\n",
       "       param_grid={'n_estimators': [50, 130, 210, 290, 370]},\n",
       "       pre_dispatch='2*n_jobs', refit=True, return_train_score='warn',\n",
       "       scoring='roc_auc', verbose=3)"
      ]
     },
     "execution_count": 252,
     "metadata": {},
     "output_type": "execute_result"
    }
   ],
   "source": [
    "rand_search.fit(X_train_new,Y_train_new)"
   ]
  },
  {
   "cell_type": "code",
   "execution_count": 256,
   "metadata": {},
   "outputs": [
    {
     "data": {
      "text/plain": [
       "{'n_estimators': 130}"
      ]
     },
     "execution_count": 256,
     "metadata": {},
     "output_type": "execute_result"
    }
   ],
   "source": [
    "rand_search.best_params_"
   ]
  },
  {
   "cell_type": "code",
   "execution_count": 257,
   "metadata": {
    "collapsed": true
   },
   "outputs": [],
   "source": [
    "clf = xgboost.XGBClassifier(learning_rate=0.05,min_child_weight=6,n_estimators=130)"
   ]
  },
  {
   "cell_type": "code",
   "execution_count": 259,
   "metadata": {
    "scrolled": true
   },
   "outputs": [
    {
     "name": "stdout",
     "output_type": "stream",
     "text": [
      "[CV]  ................................................................\n",
      "[CV]  ................................................................\n",
      "[CV]  ................................................................\n",
      "[CV]  ................................................................\n",
      "[CV]  ................................................................\n",
      "[CV]  ................................................................\n",
      "[CV]  ................................................................\n",
      "[CV]  ................................................................\n",
      "[CV] ....................... , score=0.7376096785272379, total= 1.8min\n",
      "[CV] ....................... , score=0.7321531570949363, total= 1.8min\n"
     ]
    },
    {
     "name": "stderr",
     "output_type": "stream",
     "text": [
      "[Parallel(n_jobs=8)]: Done   2 out of   8 | elapsed:  1.8min remaining:  5.5min\n"
     ]
    },
    {
     "name": "stdout",
     "output_type": "stream",
     "text": [
      "[CV] ....................... , score=0.7419029606733379, total= 1.8min\n",
      "[CV] ....................... , score=0.7401633945415966, total= 1.8min\n",
      "[CV] ....................... , score=0.7523031902631344, total= 1.8min\n"
     ]
    },
    {
     "name": "stderr",
     "output_type": "stream",
     "text": [
      "[Parallel(n_jobs=8)]: Done   5 out of   8 | elapsed:  1.8min remaining:  1.1min\n"
     ]
    },
    {
     "name": "stdout",
     "output_type": "stream",
     "text": [
      "[CV] ......................... , score=0.73448974328565, total= 1.8min\n",
      "[CV] ....................... , score=0.7400223639105218, total= 1.8min\n",
      "[CV] ........................ , score=0.736233326012222, total= 1.8min\n"
     ]
    },
    {
     "name": "stderr",
     "output_type": "stream",
     "text": [
      "[Parallel(n_jobs=8)]: Done   8 out of   8 | elapsed:  1.9min remaining:    0.0s\n",
      "[Parallel(n_jobs=8)]: Done   8 out of   8 | elapsed:  1.9min finished\n"
     ]
    }
   ],
   "source": [
    "myIterator=skf.split(X_train_new,Y_train_new)\n",
    "score_final = cross_val_score(clf,X_train_new,Y_train_new,cv=myIterator,scoring=\"roc_auc\",n_jobs=8,verbose=3)"
   ]
  },
  {
   "cell_type": "code",
   "execution_count": 294,
   "metadata": {},
   "outputs": [
    {
     "data": {
      "text/plain": [
       "0.7393597267885796"
      ]
     },
     "execution_count": 294,
     "metadata": {},
     "output_type": "execute_result"
    }
   ],
   "source": [
    "score_final.mean()"
   ]
  },
  {
   "cell_type": "code",
   "execution_count": 262,
   "metadata": {},
   "outputs": [
    {
     "data": {
      "text/plain": [
       "XGBClassifier(base_score=0.5, booster='gbtree', colsample_bylevel=1,\n",
       "       colsample_bytree=1, gamma=0, learning_rate=0.05, max_delta_step=0,\n",
       "       max_depth=3, min_child_weight=6, missing=None, n_estimators=130,\n",
       "       n_jobs=1, nthread=None, objective='binary:logistic', random_state=0,\n",
       "       reg_alpha=0, reg_lambda=1, scale_pos_weight=1, seed=None,\n",
       "       silent=True, subsample=1)"
      ]
     },
     "execution_count": 262,
     "metadata": {},
     "output_type": "execute_result"
    }
   ],
   "source": [
    "clf.fit(X_train_new,Y_train_new)"
   ]
  },
  {
   "cell_type": "code",
   "execution_count": null,
   "metadata": {},
   "outputs": [],
   "source": []
  }
 ],
 "metadata": {
  "kernelspec": {
   "display_name": "Python 3",
   "language": "python",
   "name": "python3"
  },
  "latex_envs": {
   "LaTeX_envs_menu_present": true,
   "autoclose": false,
   "autocomplete": true,
   "bibliofile": "biblio.bib",
   "cite_by": "apalike",
   "current_citInitial": 1,
   "eqLabelWithNumbers": true,
   "eqNumInitial": 1,
   "hotkeys": {
    "equation": "Ctrl-E",
    "itemize": "Ctrl-I"
   },
   "labels_anchors": false,
   "latex_user_defs": false,
   "report_style_numbering": false,
   "user_envs_cfg": false
  },
  "toc": {
   "nav_menu": {},
   "number_sections": true,
   "sideBar": true,
   "skip_h1_title": false,
   "title_cell": "Table of Contents",
   "title_sidebar": "Contents",
   "toc_cell": false,
   "toc_position": {},
   "toc_section_display": true,
   "toc_window_display": false
  },
  "varInspector": {
   "cols": {
    "lenName": 16,
    "lenType": 16,
    "lenVar": 40
   },
   "kernels_config": {
    "python": {
     "delete_cmd_postfix": "",
     "delete_cmd_prefix": "del ",
     "library": "var_list.py",
     "varRefreshCmd": "print(var_dic_list())"
    },
    "r": {
     "delete_cmd_postfix": ") ",
     "delete_cmd_prefix": "rm(",
     "library": "var_list.r",
     "varRefreshCmd": "cat(var_dic_list()) "
    }
   },
   "types_to_exclude": [
    "module",
    "function",
    "builtin_function_or_method",
    "instance",
    "_Feature"
   ],
   "window_display": false
  }
 },
 "nbformat": 4,
 "nbformat_minor": 2
}
